{
 "cells": [
  {
   "cell_type": "markdown",
   "metadata": {
    "id": "nMZCtV8-wUBi"
   },
   "source": [
    "# [Project 1] PISA 데이터 분석\n",
    "\n",
    "---\n",
    "\n"
   ]
  },
  {
   "cell_type": "code",
   "execution_count": null,
   "metadata": {
    "colab": {
     "base_uri": "https://localhost:8080/"
    },
    "id": "SlE9rPQtBqPK",
    "outputId": "b3b687b3-ed05-42a0-ab72-e61d717472a6"
   },
   "outputs": [
    {
     "name": "stdout",
     "output_type": "stream",
     "text": [
      "Mounted at /content/drive\n"
     ]
    }
   ],
   "source": [
    "from google.colab import drive\n",
    "drive.mount('/content/drive')"
   ]
  },
  {
   "cell_type": "markdown",
   "metadata": {
    "id": "q4nVw7MrwUBj"
   },
   "source": [
    "---"
   ]
  },
  {
   "cell_type": "markdown",
   "metadata": {
    "id": "uHvelOrMwUBk"
   },
   "source": [
    "## 프로젝트 목차\n",
    "1. **데이터 읽기:** 데이터를 불러오고 Dataframe 구조를 확인<br>\n",
    "    1.1. 데이터 불러오기<br>\n",
    "<br> \n",
    "2. **데이터 정제:** 비어 있는 데이터 또는 쓸모 없는 데이터를 삭제<br>\n",
    "    2.1. 비어있는 column 지우기<br>\n",
    "<br>\n",
    "3. **데이터 시각화:** 각 변수 별로 추가적인 정제를 거치고, 시각화를 통하여 데이터의 특성 파악<br>\n",
    "    3.1. 연도별 평균 그래프<br>"
   ]
  },
  {
   "cell_type": "markdown",
   "metadata": {
    "id": "lUQhF57GwUBl"
   },
   "source": [
    "---"
   ]
  },
  {
   "cell_type": "markdown",
   "metadata": {
    "id": "t006thVWwUBl"
   },
   "source": [
    "## 데이터 출처\n",
    "-  https://www.kaggle.com/datasets/theworldbank/education-statistics"
   ]
  },
  {
   "cell_type": "markdown",
   "metadata": {
    "id": "yCBC0cvfwUBl"
   },
   "source": [
    "---"
   ]
  },
  {
   "cell_type": "markdown",
   "metadata": {
    "id": "py5kyk7mwUBl"
   },
   "source": [
    "## 프로젝트 개요\n",
    "\n",
    "WORLD BANK 기관에서 실시한 PISA 평가 데이터를 분석하여 대한민국의 literacy(문해력)을 파악합니다. <br>\n",
    "\n",
    "WORLD BANK에서 kaggle에 공개한 csv 데이터에서 PISA 평가 결과 데이터를 알맞게 추출한 뒤, 해당 데이터를 기반으로 분석을 진행합니다. <br>\n",
    "\n",
    "특히, 성별에 따른 평균 데이터와 전체 평균을 가져와 그래프로 시각화하는 연습을 진행합니다.\n",
    "\n",
    "\n"
   ]
  },
  {
   "cell_type": "markdown",
   "metadata": {
    "id": "Dy5Q39iIwUBm"
   },
   "source": [
    "---"
   ]
  },
  {
   "cell_type": "markdown",
   "metadata": {
    "id": "r077bdYzwUBm"
   },
   "source": [
    "## 1. 데이터 읽기"
   ]
  },
  {
   "cell_type": "markdown",
   "metadata": {
    "id": "0e9Ht_41wUBm"
   },
   "source": [
    "필요한 패키지 설치 및 `import`한 후 `pandas`를 사용하여 데이터를 읽고 어떠한 데이터가 저장되어 있는지 확인합니다."
   ]
  },
  {
   "cell_type": "markdown",
   "metadata": {
    "id": "fYVQhfevBbx4"
   },
   "source": [
    "### 1.1. 데이터 불러오기"
   ]
  },
  {
   "cell_type": "code",
   "execution_count": null,
   "metadata": {
    "id": "VqCenoC3wUBn"
   },
   "outputs": [],
   "source": [
    "import numpy as np \n",
    "import pandas as pd \n",
    "import matplotlib.pyplot as plt\n",
    "import seaborn as sns"
   ]
  },
  {
   "cell_type": "code",
   "execution_count": null,
   "metadata": {
    "id": "6PeTXSwjwUBn"
   },
   "outputs": [],
   "source": [
    "# pd.read_csv를 통하여 dataframe 형태로 읽어옵니다.\n",
    "PATH = \"/content/drive/MyDrive/Colab Notebooks/엘리스 AI트랙 4기/엘리스 2차 프로젝트/data/pisa_Korea_classified.csv\"\n",
    "pisa_korea=pd.read_csv(PATH)"
   ]
  },
  {
   "cell_type": "code",
   "execution_count": null,
   "metadata": {
    "colab": {
     "base_uri": "https://localhost:8080/",
     "height": 546
    },
    "id": "HK1LUrkjwUBn",
    "outputId": "9f5348e5-9c8a-4fb2-cc43-736f07495fca",
    "scrolled": true
   },
   "outputs": [
    {
     "data": {
      "text/html": [
       "\n",
       "  <div id=\"df-7815895b-9c40-4eb9-b8f8-4c9f7378109c\">\n",
       "    <div class=\"colab-df-container\">\n",
       "      <div>\n",
       "<style scoped>\n",
       "    .dataframe tbody tr th:only-of-type {\n",
       "        vertical-align: middle;\n",
       "    }\n",
       "\n",
       "    .dataframe tbody tr th {\n",
       "        vertical-align: top;\n",
       "    }\n",
       "\n",
       "    .dataframe thead th {\n",
       "        text-align: right;\n",
       "    }\n",
       "</style>\n",
       "<table border=\"1\" class=\"dataframe\">\n",
       "  <thead>\n",
       "    <tr style=\"text-align: right;\">\n",
       "      <th></th>\n",
       "      <th>Country Name</th>\n",
       "      <th>Country Code</th>\n",
       "      <th>Series</th>\n",
       "      <th>Series Code</th>\n",
       "      <th>2000 [YR2000]</th>\n",
       "      <th>2003 [YR2003]</th>\n",
       "      <th>2006 [YR2006]</th>\n",
       "      <th>2009 [YR2009]</th>\n",
       "      <th>2012 [YR2012]</th>\n",
       "      <th>2015 [YR2015]</th>\n",
       "      <th>2018 [YR2018]</th>\n",
       "    </tr>\n",
       "  </thead>\n",
       "  <tbody>\n",
       "    <tr>\n",
       "      <th>48</th>\n",
       "      <td>Korea, Rep.</td>\n",
       "      <td>KOR</td>\n",
       "      <td>PISA: Male 15-year-olds by reading proficiency...</td>\n",
       "      <td>LO.PISA.REA.5.MA</td>\n",
       "      <td>2</td>\n",
       "      <td>5</td>\n",
       "      <td>7</td>\n",
       "      <td>5</td>\n",
       "      <td>6.000000</td>\n",
       "      <td>4</td>\n",
       "      <td>5</td>\n",
       "    </tr>\n",
       "    <tr>\n",
       "      <th>49</th>\n",
       "      <td>Korea, Rep.</td>\n",
       "      <td>KOR</td>\n",
       "      <td>PISA: Male 15-year-olds by reading proficiency...</td>\n",
       "      <td>LO.PISA.REA.6.MA</td>\n",
       "      <td>0</td>\n",
       "      <td>1</td>\n",
       "      <td>1</td>\n",
       "      <td>0</td>\n",
       "      <td>1.000000</td>\n",
       "      <td>1</td>\n",
       "      <td>1</td>\n",
       "    </tr>\n",
       "    <tr>\n",
       "      <th>50</th>\n",
       "      <td>Korea, Rep.</td>\n",
       "      <td>KOR</td>\n",
       "      <td>PISA: Mean performance on the reading scale</td>\n",
       "      <td>LO.PISA.REA</td>\n",
       "      <td>524.754298913351</td>\n",
       "      <td>534.09126443</td>\n",
       "      <td>556.021910226254</td>\n",
       "      <td>539.267483427654</td>\n",
       "      <td>535.790490</td>\n",
       "      <td>517.4367</td>\n",
       "      <td>514.052287958269</td>\n",
       "    </tr>\n",
       "    <tr>\n",
       "      <th>51</th>\n",
       "      <td>Korea, Rep.</td>\n",
       "      <td>KOR</td>\n",
       "      <td>PISA: Mean performance on the reading scale. F...</td>\n",
       "      <td>LO.PISA.REA.FE</td>\n",
       "      <td>532.71562446411</td>\n",
       "      <td>546.73116464</td>\n",
       "      <td>573.781294077605</td>\n",
       "      <td>557.982544274323</td>\n",
       "      <td>548.206691</td>\n",
       "      <td>538.609217621669</td>\n",
       "      <td>526.406274343338</td>\n",
       "    </tr>\n",
       "    <tr>\n",
       "      <th>52</th>\n",
       "      <td>Korea, Rep.</td>\n",
       "      <td>KOR</td>\n",
       "      <td>PISA: Mean performance on the reading scale. Male</td>\n",
       "      <td>LO.PISA.REA.MA</td>\n",
       "      <td>518.502628907568</td>\n",
       "      <td>525.47687253</td>\n",
       "      <td>538.75514407964</td>\n",
       "      <td>522.503358452028</td>\n",
       "      <td>524.964649</td>\n",
       "      <td>498.068987929607</td>\n",
       "      <td>502.840138194686</td>\n",
       "    </tr>\n",
       "    <tr>\n",
       "      <th>53</th>\n",
       "      <td>NaN</td>\n",
       "      <td>NaN</td>\n",
       "      <td>NaN</td>\n",
       "      <td>NaN</td>\n",
       "      <td>NaN</td>\n",
       "      <td>NaN</td>\n",
       "      <td>NaN</td>\n",
       "      <td>NaN</td>\n",
       "      <td>NaN</td>\n",
       "      <td>NaN</td>\n",
       "      <td>NaN</td>\n",
       "    </tr>\n",
       "    <tr>\n",
       "      <th>54</th>\n",
       "      <td>NaN</td>\n",
       "      <td>NaN</td>\n",
       "      <td>NaN</td>\n",
       "      <td>NaN</td>\n",
       "      <td>NaN</td>\n",
       "      <td>NaN</td>\n",
       "      <td>NaN</td>\n",
       "      <td>NaN</td>\n",
       "      <td>NaN</td>\n",
       "      <td>NaN</td>\n",
       "      <td>NaN</td>\n",
       "    </tr>\n",
       "    <tr>\n",
       "      <th>55</th>\n",
       "      <td>NaN</td>\n",
       "      <td>NaN</td>\n",
       "      <td>NaN</td>\n",
       "      <td>NaN</td>\n",
       "      <td>NaN</td>\n",
       "      <td>NaN</td>\n",
       "      <td>NaN</td>\n",
       "      <td>NaN</td>\n",
       "      <td>NaN</td>\n",
       "      <td>NaN</td>\n",
       "      <td>NaN</td>\n",
       "    </tr>\n",
       "    <tr>\n",
       "      <th>56</th>\n",
       "      <td>Data from database: Education Statistics - All...</td>\n",
       "      <td>NaN</td>\n",
       "      <td>NaN</td>\n",
       "      <td>NaN</td>\n",
       "      <td>NaN</td>\n",
       "      <td>NaN</td>\n",
       "      <td>NaN</td>\n",
       "      <td>NaN</td>\n",
       "      <td>NaN</td>\n",
       "      <td>NaN</td>\n",
       "      <td>NaN</td>\n",
       "    </tr>\n",
       "    <tr>\n",
       "      <th>57</th>\n",
       "      <td>Last Updated: 12/20/2020</td>\n",
       "      <td>NaN</td>\n",
       "      <td>NaN</td>\n",
       "      <td>NaN</td>\n",
       "      <td>NaN</td>\n",
       "      <td>NaN</td>\n",
       "      <td>NaN</td>\n",
       "      <td>NaN</td>\n",
       "      <td>NaN</td>\n",
       "      <td>NaN</td>\n",
       "      <td>NaN</td>\n",
       "    </tr>\n",
       "  </tbody>\n",
       "</table>\n",
       "</div>\n",
       "      <button class=\"colab-df-convert\" onclick=\"convertToInteractive('df-7815895b-9c40-4eb9-b8f8-4c9f7378109c')\"\n",
       "              title=\"Convert this dataframe to an interactive table.\"\n",
       "              style=\"display:none;\">\n",
       "        \n",
       "  <svg xmlns=\"http://www.w3.org/2000/svg\" height=\"24px\"viewBox=\"0 0 24 24\"\n",
       "       width=\"24px\">\n",
       "    <path d=\"M0 0h24v24H0V0z\" fill=\"none\"/>\n",
       "    <path d=\"M18.56 5.44l.94 2.06.94-2.06 2.06-.94-2.06-.94-.94-2.06-.94 2.06-2.06.94zm-11 1L8.5 8.5l.94-2.06 2.06-.94-2.06-.94L8.5 2.5l-.94 2.06-2.06.94zm10 10l.94 2.06.94-2.06 2.06-.94-2.06-.94-.94-2.06-.94 2.06-2.06.94z\"/><path d=\"M17.41 7.96l-1.37-1.37c-.4-.4-.92-.59-1.43-.59-.52 0-1.04.2-1.43.59L10.3 9.45l-7.72 7.72c-.78.78-.78 2.05 0 2.83L4 21.41c.39.39.9.59 1.41.59.51 0 1.02-.2 1.41-.59l7.78-7.78 2.81-2.81c.8-.78.8-2.07 0-2.86zM5.41 20L4 18.59l7.72-7.72 1.47 1.35L5.41 20z\"/>\n",
       "  </svg>\n",
       "      </button>\n",
       "      \n",
       "  <style>\n",
       "    .colab-df-container {\n",
       "      display:flex;\n",
       "      flex-wrap:wrap;\n",
       "      gap: 12px;\n",
       "    }\n",
       "\n",
       "    .colab-df-convert {\n",
       "      background-color: #E8F0FE;\n",
       "      border: none;\n",
       "      border-radius: 50%;\n",
       "      cursor: pointer;\n",
       "      display: none;\n",
       "      fill: #1967D2;\n",
       "      height: 32px;\n",
       "      padding: 0 0 0 0;\n",
       "      width: 32px;\n",
       "    }\n",
       "\n",
       "    .colab-df-convert:hover {\n",
       "      background-color: #E2EBFA;\n",
       "      box-shadow: 0px 1px 2px rgba(60, 64, 67, 0.3), 0px 1px 3px 1px rgba(60, 64, 67, 0.15);\n",
       "      fill: #174EA6;\n",
       "    }\n",
       "\n",
       "    [theme=dark] .colab-df-convert {\n",
       "      background-color: #3B4455;\n",
       "      fill: #D2E3FC;\n",
       "    }\n",
       "\n",
       "    [theme=dark] .colab-df-convert:hover {\n",
       "      background-color: #434B5C;\n",
       "      box-shadow: 0px 1px 3px 1px rgba(0, 0, 0, 0.15);\n",
       "      filter: drop-shadow(0px 1px 2px rgba(0, 0, 0, 0.3));\n",
       "      fill: #FFFFFF;\n",
       "    }\n",
       "  </style>\n",
       "\n",
       "      <script>\n",
       "        const buttonEl =\n",
       "          document.querySelector('#df-7815895b-9c40-4eb9-b8f8-4c9f7378109c button.colab-df-convert');\n",
       "        buttonEl.style.display =\n",
       "          google.colab.kernel.accessAllowed ? 'block' : 'none';\n",
       "\n",
       "        async function convertToInteractive(key) {\n",
       "          const element = document.querySelector('#df-7815895b-9c40-4eb9-b8f8-4c9f7378109c');\n",
       "          const dataTable =\n",
       "            await google.colab.kernel.invokeFunction('convertToInteractive',\n",
       "                                                     [key], {});\n",
       "          if (!dataTable) return;\n",
       "\n",
       "          const docLinkHtml = 'Like what you see? Visit the ' +\n",
       "            '<a target=\"_blank\" href=https://colab.research.google.com/notebooks/data_table.ipynb>data table notebook</a>'\n",
       "            + ' to learn more about interactive tables.';\n",
       "          element.innerHTML = '';\n",
       "          dataTable['output_type'] = 'display_data';\n",
       "          await google.colab.output.renderOutput(dataTable, element);\n",
       "          const docLink = document.createElement('div');\n",
       "          docLink.innerHTML = docLinkHtml;\n",
       "          element.appendChild(docLink);\n",
       "        }\n",
       "      </script>\n",
       "    </div>\n",
       "  </div>\n",
       "  "
      ],
      "text/plain": [
       "                                         Country Name Country Code  \\\n",
       "48                                        Korea, Rep.          KOR   \n",
       "49                                        Korea, Rep.          KOR   \n",
       "50                                        Korea, Rep.          KOR   \n",
       "51                                        Korea, Rep.          KOR   \n",
       "52                                        Korea, Rep.          KOR   \n",
       "53                                                NaN          NaN   \n",
       "54                                                NaN          NaN   \n",
       "55                                                NaN          NaN   \n",
       "56  Data from database: Education Statistics - All...          NaN   \n",
       "57                           Last Updated: 12/20/2020          NaN   \n",
       "\n",
       "                                               Series       Series Code  \\\n",
       "48  PISA: Male 15-year-olds by reading proficiency...  LO.PISA.REA.5.MA   \n",
       "49  PISA: Male 15-year-olds by reading proficiency...  LO.PISA.REA.6.MA   \n",
       "50        PISA: Mean performance on the reading scale       LO.PISA.REA   \n",
       "51  PISA: Mean performance on the reading scale. F...    LO.PISA.REA.FE   \n",
       "52  PISA: Mean performance on the reading scale. Male    LO.PISA.REA.MA   \n",
       "53                                                NaN               NaN   \n",
       "54                                                NaN               NaN   \n",
       "55                                                NaN               NaN   \n",
       "56                                                NaN               NaN   \n",
       "57                                                NaN               NaN   \n",
       "\n",
       "       2000 [YR2000] 2003 [YR2003]     2006 [YR2006]     2009 [YR2009]  \\\n",
       "48                 2             5                 7                 5   \n",
       "49                 0             1                 1                 0   \n",
       "50  524.754298913351  534.09126443  556.021910226254  539.267483427654   \n",
       "51   532.71562446411  546.73116464  573.781294077605  557.982544274323   \n",
       "52  518.502628907568  525.47687253   538.75514407964  522.503358452028   \n",
       "53               NaN           NaN               NaN               NaN   \n",
       "54               NaN           NaN               NaN               NaN   \n",
       "55               NaN           NaN               NaN               NaN   \n",
       "56               NaN           NaN               NaN               NaN   \n",
       "57               NaN           NaN               NaN               NaN   \n",
       "\n",
       "    2012 [YR2012]     2015 [YR2015]     2018 [YR2018]  \n",
       "48       6.000000                 4                 5  \n",
       "49       1.000000                 1                 1  \n",
       "50     535.790490          517.4367  514.052287958269  \n",
       "51     548.206691  538.609217621669  526.406274343338  \n",
       "52     524.964649  498.068987929607  502.840138194686  \n",
       "53            NaN               NaN               NaN  \n",
       "54            NaN               NaN               NaN  \n",
       "55            NaN               NaN               NaN  \n",
       "56            NaN               NaN               NaN  \n",
       "57            NaN               NaN               NaN  "
      ]
     },
     "execution_count": 11,
     "metadata": {},
     "output_type": "execute_result"
    }
   ],
   "source": [
    "# 하위 10개 데이터를 출력합니다.\n",
    "pisa_korea.tail(10)"
   ]
  },
  {
   "cell_type": "code",
   "execution_count": null,
   "metadata": {
    "colab": {
     "base_uri": "https://localhost:8080/"
    },
    "id": "n_DL99rxwUBo",
    "outputId": "9353ea38-e956-4f6a-ec34-34ec3a92bce3"
   },
   "outputs": [
    {
     "name": "stdout",
     "output_type": "stream",
     "text": [
      "<class 'pandas.core.frame.DataFrame'>\n",
      "RangeIndex: 58 entries, 0 to 57\n",
      "Data columns (total 11 columns):\n",
      " #   Column         Non-Null Count  Dtype  \n",
      "---  ------         --------------  -----  \n",
      " 0   Country Name   55 non-null     object \n",
      " 1   Country Code   53 non-null     object \n",
      " 2   Series         53 non-null     object \n",
      " 3   Series Code    53 non-null     object \n",
      " 4   2000 [YR2000]  53 non-null     object \n",
      " 5   2003 [YR2003]  53 non-null     object \n",
      " 6   2006 [YR2006]  53 non-null     object \n",
      " 7   2009 [YR2009]  53 non-null     object \n",
      " 8   2012 [YR2012]  53 non-null     float64\n",
      " 9   2015 [YR2015]  53 non-null     object \n",
      " 10  2018 [YR2018]  53 non-null     object \n",
      "dtypes: float64(1), object(10)\n",
      "memory usage: 5.1+ KB\n"
     ]
    }
   ],
   "source": [
    "# dataframe 정보를 요약하여 출력합니다. \n",
    "pisa_korea.info()"
   ]
  },
  {
   "cell_type": "markdown",
   "metadata": {
    "id": "jWknASZ2wUBo"
   },
   "source": [
    " "
   ]
  },
  {
   "cell_type": "markdown",
   "metadata": {
    "id": "lfUpbfQsBbx-"
   },
   "source": [
    "---"
   ]
  },
  {
   "cell_type": "markdown",
   "metadata": {
    "id": "0K4t-JjpwUBo"
   },
   "source": [
    "## 2. 데이터 정제"
   ]
  },
  {
   "cell_type": "markdown",
   "metadata": {
    "id": "mQsjxTEFwUBo"
   },
   "source": [
    "데이터를 읽고 확인했다면 결측값(missing data), 이상치(outlier)를 처리하는 데이터 정제 과정을 수행하여 봅시다."
   ]
  },
  {
   "cell_type": "markdown",
   "metadata": {
    "id": "wM4dLaHywUBp"
   },
   "source": [
    "### 2.1. 필요한 row만 추출하기"
   ]
  },
  {
   "cell_type": "markdown",
   "metadata": {
    "id": "IlesnjwFwUBp"
   },
   "source": [
    "`pisa_korea.tail(10)`를 통해 불필요한 row 데이터가 포함되어 있다는 것을 알 수 있었습니다.\n",
    "\n",
    "`dataframe.drop()`를 사용하여 필요 없는 row 데이터를 삭제합니다."
   ]
  },
  {
   "cell_type": "code",
   "execution_count": 15,
   "metadata": {
    "id": "E11LKG2mwUBp"
   },
   "outputs": [],
   "source": [
    "# drop 함수를 사용하여 국적, 환자정보, 조치사항 coulmn 데이터를 삭제합니다.\n",
    "pisa_korea1 = pisa_korea.drop([53,54,55,56,57], axis=0)"
   ]
  },
  {
   "cell_type": "code",
   "execution_count": 20,
   "metadata": {
    "colab": {
     "base_uri": "https://localhost:8080/",
     "height": 284
    },
    "id": "nkiFwimHwUBp",
    "outputId": "e99ab468-2148-46bc-a124-f03408452f9e"
   },
   "outputs": [
    {
     "data": {
      "text/html": [
       "\n",
       "  <div id=\"df-a0a06c58-d0e9-4e7e-bac2-3cf68958d40e\">\n",
       "    <div class=\"colab-df-container\">\n",
       "      <div>\n",
       "<style scoped>\n",
       "    .dataframe tbody tr th:only-of-type {\n",
       "        vertical-align: middle;\n",
       "    }\n",
       "\n",
       "    .dataframe tbody tr th {\n",
       "        vertical-align: top;\n",
       "    }\n",
       "\n",
       "    .dataframe thead th {\n",
       "        text-align: right;\n",
       "    }\n",
       "</style>\n",
       "<table border=\"1\" class=\"dataframe\">\n",
       "  <thead>\n",
       "    <tr style=\"text-align: right;\">\n",
       "      <th></th>\n",
       "      <th>Country Name</th>\n",
       "      <th>Country Code</th>\n",
       "      <th>Series</th>\n",
       "      <th>Series Code</th>\n",
       "      <th>2000 [YR2000]</th>\n",
       "      <th>2003 [YR2003]</th>\n",
       "      <th>2006 [YR2006]</th>\n",
       "      <th>2009 [YR2009]</th>\n",
       "      <th>2012 [YR2012]</th>\n",
       "      <th>2015 [YR2015]</th>\n",
       "      <th>2018 [YR2018]</th>\n",
       "    </tr>\n",
       "  </thead>\n",
       "  <tbody>\n",
       "    <tr>\n",
       "      <th>48</th>\n",
       "      <td>Korea, Rep.</td>\n",
       "      <td>KOR</td>\n",
       "      <td>PISA: Male 15-year-olds by reading proficiency...</td>\n",
       "      <td>LO.PISA.REA.5.MA</td>\n",
       "      <td>2</td>\n",
       "      <td>5</td>\n",
       "      <td>7</td>\n",
       "      <td>5</td>\n",
       "      <td>6.000000</td>\n",
       "      <td>4</td>\n",
       "      <td>5</td>\n",
       "    </tr>\n",
       "    <tr>\n",
       "      <th>49</th>\n",
       "      <td>Korea, Rep.</td>\n",
       "      <td>KOR</td>\n",
       "      <td>PISA: Male 15-year-olds by reading proficiency...</td>\n",
       "      <td>LO.PISA.REA.6.MA</td>\n",
       "      <td>0</td>\n",
       "      <td>1</td>\n",
       "      <td>1</td>\n",
       "      <td>0</td>\n",
       "      <td>1.000000</td>\n",
       "      <td>1</td>\n",
       "      <td>1</td>\n",
       "    </tr>\n",
       "    <tr>\n",
       "      <th>50</th>\n",
       "      <td>Korea, Rep.</td>\n",
       "      <td>KOR</td>\n",
       "      <td>PISA: Mean performance on the reading scale</td>\n",
       "      <td>LO.PISA.REA</td>\n",
       "      <td>524.754298913351</td>\n",
       "      <td>534.09126443</td>\n",
       "      <td>556.021910226254</td>\n",
       "      <td>539.267483427654</td>\n",
       "      <td>535.790490</td>\n",
       "      <td>517.4367</td>\n",
       "      <td>514.052287958269</td>\n",
       "    </tr>\n",
       "    <tr>\n",
       "      <th>51</th>\n",
       "      <td>Korea, Rep.</td>\n",
       "      <td>KOR</td>\n",
       "      <td>PISA: Mean performance on the reading scale. F...</td>\n",
       "      <td>LO.PISA.REA.FE</td>\n",
       "      <td>532.71562446411</td>\n",
       "      <td>546.73116464</td>\n",
       "      <td>573.781294077605</td>\n",
       "      <td>557.982544274323</td>\n",
       "      <td>548.206691</td>\n",
       "      <td>538.609217621669</td>\n",
       "      <td>526.406274343338</td>\n",
       "    </tr>\n",
       "    <tr>\n",
       "      <th>52</th>\n",
       "      <td>Korea, Rep.</td>\n",
       "      <td>KOR</td>\n",
       "      <td>PISA: Mean performance on the reading scale. Male</td>\n",
       "      <td>LO.PISA.REA.MA</td>\n",
       "      <td>518.502628907568</td>\n",
       "      <td>525.47687253</td>\n",
       "      <td>538.75514407964</td>\n",
       "      <td>522.503358452028</td>\n",
       "      <td>524.964649</td>\n",
       "      <td>498.068987929607</td>\n",
       "      <td>502.840138194686</td>\n",
       "    </tr>\n",
       "  </tbody>\n",
       "</table>\n",
       "</div>\n",
       "      <button class=\"colab-df-convert\" onclick=\"convertToInteractive('df-a0a06c58-d0e9-4e7e-bac2-3cf68958d40e')\"\n",
       "              title=\"Convert this dataframe to an interactive table.\"\n",
       "              style=\"display:none;\">\n",
       "        \n",
       "  <svg xmlns=\"http://www.w3.org/2000/svg\" height=\"24px\"viewBox=\"0 0 24 24\"\n",
       "       width=\"24px\">\n",
       "    <path d=\"M0 0h24v24H0V0z\" fill=\"none\"/>\n",
       "    <path d=\"M18.56 5.44l.94 2.06.94-2.06 2.06-.94-2.06-.94-.94-2.06-.94 2.06-2.06.94zm-11 1L8.5 8.5l.94-2.06 2.06-.94-2.06-.94L8.5 2.5l-.94 2.06-2.06.94zm10 10l.94 2.06.94-2.06 2.06-.94-2.06-.94-.94-2.06-.94 2.06-2.06.94z\"/><path d=\"M17.41 7.96l-1.37-1.37c-.4-.4-.92-.59-1.43-.59-.52 0-1.04.2-1.43.59L10.3 9.45l-7.72 7.72c-.78.78-.78 2.05 0 2.83L4 21.41c.39.39.9.59 1.41.59.51 0 1.02-.2 1.41-.59l7.78-7.78 2.81-2.81c.8-.78.8-2.07 0-2.86zM5.41 20L4 18.59l7.72-7.72 1.47 1.35L5.41 20z\"/>\n",
       "  </svg>\n",
       "      </button>\n",
       "      \n",
       "  <style>\n",
       "    .colab-df-container {\n",
       "      display:flex;\n",
       "      flex-wrap:wrap;\n",
       "      gap: 12px;\n",
       "    }\n",
       "\n",
       "    .colab-df-convert {\n",
       "      background-color: #E8F0FE;\n",
       "      border: none;\n",
       "      border-radius: 50%;\n",
       "      cursor: pointer;\n",
       "      display: none;\n",
       "      fill: #1967D2;\n",
       "      height: 32px;\n",
       "      padding: 0 0 0 0;\n",
       "      width: 32px;\n",
       "    }\n",
       "\n",
       "    .colab-df-convert:hover {\n",
       "      background-color: #E2EBFA;\n",
       "      box-shadow: 0px 1px 2px rgba(60, 64, 67, 0.3), 0px 1px 3px 1px rgba(60, 64, 67, 0.15);\n",
       "      fill: #174EA6;\n",
       "    }\n",
       "\n",
       "    [theme=dark] .colab-df-convert {\n",
       "      background-color: #3B4455;\n",
       "      fill: #D2E3FC;\n",
       "    }\n",
       "\n",
       "    [theme=dark] .colab-df-convert:hover {\n",
       "      background-color: #434B5C;\n",
       "      box-shadow: 0px 1px 3px 1px rgba(0, 0, 0, 0.15);\n",
       "      filter: drop-shadow(0px 1px 2px rgba(0, 0, 0, 0.3));\n",
       "      fill: #FFFFFF;\n",
       "    }\n",
       "  </style>\n",
       "\n",
       "      <script>\n",
       "        const buttonEl =\n",
       "          document.querySelector('#df-a0a06c58-d0e9-4e7e-bac2-3cf68958d40e button.colab-df-convert');\n",
       "        buttonEl.style.display =\n",
       "          google.colab.kernel.accessAllowed ? 'block' : 'none';\n",
       "\n",
       "        async function convertToInteractive(key) {\n",
       "          const element = document.querySelector('#df-a0a06c58-d0e9-4e7e-bac2-3cf68958d40e');\n",
       "          const dataTable =\n",
       "            await google.colab.kernel.invokeFunction('convertToInteractive',\n",
       "                                                     [key], {});\n",
       "          if (!dataTable) return;\n",
       "\n",
       "          const docLinkHtml = 'Like what you see? Visit the ' +\n",
       "            '<a target=\"_blank\" href=https://colab.research.google.com/notebooks/data_table.ipynb>data table notebook</a>'\n",
       "            + ' to learn more about interactive tables.';\n",
       "          element.innerHTML = '';\n",
       "          dataTable['output_type'] = 'display_data';\n",
       "          await google.colab.output.renderOutput(dataTable, element);\n",
       "          const docLink = document.createElement('div');\n",
       "          docLink.innerHTML = docLinkHtml;\n",
       "          element.appendChild(docLink);\n",
       "        }\n",
       "      </script>\n",
       "    </div>\n",
       "  </div>\n",
       "  "
      ],
      "text/plain": [
       "   Country Name Country Code  \\\n",
       "48  Korea, Rep.          KOR   \n",
       "49  Korea, Rep.          KOR   \n",
       "50  Korea, Rep.          KOR   \n",
       "51  Korea, Rep.          KOR   \n",
       "52  Korea, Rep.          KOR   \n",
       "\n",
       "                                               Series       Series Code  \\\n",
       "48  PISA: Male 15-year-olds by reading proficiency...  LO.PISA.REA.5.MA   \n",
       "49  PISA: Male 15-year-olds by reading proficiency...  LO.PISA.REA.6.MA   \n",
       "50        PISA: Mean performance on the reading scale       LO.PISA.REA   \n",
       "51  PISA: Mean performance on the reading scale. F...    LO.PISA.REA.FE   \n",
       "52  PISA: Mean performance on the reading scale. Male    LO.PISA.REA.MA   \n",
       "\n",
       "       2000 [YR2000] 2003 [YR2003]     2006 [YR2006]     2009 [YR2009]  \\\n",
       "48                 2             5                 7                 5   \n",
       "49                 0             1                 1                 0   \n",
       "50  524.754298913351  534.09126443  556.021910226254  539.267483427654   \n",
       "51   532.71562446411  546.73116464  573.781294077605  557.982544274323   \n",
       "52  518.502628907568  525.47687253   538.75514407964  522.503358452028   \n",
       "\n",
       "    2012 [YR2012]     2015 [YR2015]     2018 [YR2018]  \n",
       "48       6.000000                 4                 5  \n",
       "49       1.000000                 1                 1  \n",
       "50     535.790490          517.4367  514.052287958269  \n",
       "51     548.206691  538.609217621669  526.406274343338  \n",
       "52     524.964649  498.068987929607  502.840138194686  "
      ]
     },
     "execution_count": 20,
     "metadata": {},
     "output_type": "execute_result"
    }
   ],
   "source": [
    "# 정제 처리된 dataframe 정보를 출력합니다.\n",
    "pisa_korea1.tail(5)"
   ]
  },
  {
   "cell_type": "code",
   "execution_count": 19,
   "metadata": {
    "colab": {
     "base_uri": "https://localhost:8080/"
    },
    "id": "3IcaEyYrGqK4",
    "outputId": "2161dd66-7cd9-48b3-f815-2a09cdac3d39"
   },
   "outputs": [
    {
     "data": {
      "text/plain": [
       "array(['PIAAC: Adults by literacy proficiency level (%). Below Level 1',\n",
       "       'PIAAC: Adults by literacy proficiency level (%). Level 1',\n",
       "       'PIAAC: Adults by literacy proficiency level (%). Level 2',\n",
       "       'PIAAC: Adults by literacy proficiency level (%). Level 3',\n",
       "       'PIAAC: Adults by literacy proficiency level (%). Level 4',\n",
       "       'PIAAC: Adults by literacy proficiency level (%). Level 5',\n",
       "       'PIAAC: Mean Adult Literacy Proficiency. Female',\n",
       "       'PIAAC: Mean Adult Literacy Proficiency. Male',\n",
       "       'PIAAC: Mean Adult Literacy Proficiency. Total',\n",
       "       'PIAAC: Young adults by literacy proficiency level (%). Below Level 1',\n",
       "       'PIAAC: Young adults by literacy proficiency level (%). Level 1',\n",
       "       'PIAAC: Young adults by literacy proficiency level (%). Level 2',\n",
       "       'PIAAC: Young adults by literacy proficiency level (%). Level 3',\n",
       "       'PIAAC: Young adults by literacy proficiency level (%). Level 4',\n",
       "       'PIAAC: Young adults by literacy proficiency level (%). Level 4 & 5',\n",
       "       'PIAAC: Young adults by literacy proficiency level (%). Level 5',\n",
       "       'PISA: 15-year-olds by reading proficiency level (%). Below Level 1C',\n",
       "       'PISA: 15-year-olds by reading proficiency level (%). Level 1A',\n",
       "       'PISA: 15-year-olds by reading proficiency level (%). Level 1B',\n",
       "       'PISA: 15-year-olds by reading proficiency level (%). Level 1C',\n",
       "       'PISA: 15-year-olds by reading proficiency level (%). Level 2',\n",
       "       'PISA: 15-year-olds by reading proficiency level (%). Level 3',\n",
       "       'PISA: 15-year-olds by reading proficiency level (%). Level 4',\n",
       "       'PISA: 15-year-olds by reading proficiency level (%). Level 5',\n",
       "       'PISA: 15-year-olds by reading proficiency level (%). Level 6',\n",
       "       'PISA: Distribution of Reading Scores: 10th Percentile Score',\n",
       "       'PISA: Distribution of Reading Scores: 25th Percentile Score',\n",
       "       'PISA: Distribution of Reading Scores: 50th Percentile Score',\n",
       "       'PISA: Distribution of Reading Scores: 5th Percentile Score',\n",
       "       'PISA: Distribution of Reading Scores: 75th Percentile Score',\n",
       "       'PISA: Distribution of Reading Scores: 90th Percentile Score',\n",
       "       'PISA: Distribution of Reading Scores: 95th Percentile Score',\n",
       "       'PISA: Female 15-year-olds by reading proficiency level (%). Below Level 1C',\n",
       "       'PISA: Female 15-year-olds by reading proficiency level (%). Level 1A',\n",
       "       'PISA: Female 15-year-olds by reading proficiency level (%). Level 1B',\n",
       "       'PISA: Female 15-year-olds by reading proficiency level (%). Level 1C',\n",
       "       'PISA: Female 15-year-olds by reading proficiency level (%). Level 2',\n",
       "       'PISA: Female 15-year-olds by reading proficiency level (%). Level 3',\n",
       "       'PISA: Female 15-year-olds by reading proficiency level (%). Level 4',\n",
       "       'PISA: Female 15-year-olds by reading proficiency level (%). Level 5',\n",
       "       'PISA: Female 15-year-olds by reading proficiency level (%). Level 6',\n",
       "       'PISA: Male 15-year-olds by reading proficiency level (%). Below Level 1C',\n",
       "       'PISA: Male 15-year-olds by reading proficiency level (%). Level 1A',\n",
       "       'PISA: Male 15-year-olds by reading proficiency level (%). Level 1B',\n",
       "       'PISA: Male 15-year-olds by reading proficiency level (%). Level 1C',\n",
       "       'PISA: Male 15-year-olds by reading proficiency level (%). Level 2',\n",
       "       'PISA: Male 15-year-olds by reading proficiency level (%). Level 3',\n",
       "       'PISA: Male 15-year-olds by reading proficiency level (%). Level 4',\n",
       "       'PISA: Male 15-year-olds by reading proficiency level (%). Level 5',\n",
       "       'PISA: Male 15-year-olds by reading proficiency level (%). Level 6',\n",
       "       'PISA: Mean performance on the reading scale',\n",
       "       'PISA: Mean performance on the reading scale. Female',\n",
       "       'PISA: Mean performance on the reading scale. Male'], dtype=object)"
      ]
     },
     "execution_count": 19,
     "metadata": {},
     "output_type": "execute_result"
    }
   ],
   "source": [
    "#Series 열에 어떤 값이 있는 지 확인합니다.\n",
    "pisa_korea1.Series.values"
   ]
  },
  {
   "cell_type": "markdown",
   "metadata": {
    "id": "1TX8fSL8HnKH"
   },
   "source": [
    "`pisa_korea1.loc[50:52]` 로 Mean performance 데이터만 추출합니다."
   ]
  },
  {
   "cell_type": "code",
   "execution_count": 37,
   "metadata": {
    "colab": {
     "base_uri": "https://localhost:8080/",
     "height": 187
    },
    "id": "ovVq9UvwIfid",
    "outputId": "651b0d88-804f-46f7-ee0c-a39714e9fb66"
   },
   "outputs": [
    {
     "data": {
      "text/html": [
       "\n",
       "  <div id=\"df-8a85c557-a96c-49c6-acec-5bad02954c36\">\n",
       "    <div class=\"colab-df-container\">\n",
       "      <div>\n",
       "<style scoped>\n",
       "    .dataframe tbody tr th:only-of-type {\n",
       "        vertical-align: middle;\n",
       "    }\n",
       "\n",
       "    .dataframe tbody tr th {\n",
       "        vertical-align: top;\n",
       "    }\n",
       "\n",
       "    .dataframe thead th {\n",
       "        text-align: right;\n",
       "    }\n",
       "</style>\n",
       "<table border=\"1\" class=\"dataframe\">\n",
       "  <thead>\n",
       "    <tr style=\"text-align: right;\">\n",
       "      <th></th>\n",
       "      <th>Country Name</th>\n",
       "      <th>Country Code</th>\n",
       "      <th>Series</th>\n",
       "      <th>Series Code</th>\n",
       "      <th>2000 [YR2000]</th>\n",
       "      <th>2003 [YR2003]</th>\n",
       "      <th>2006 [YR2006]</th>\n",
       "      <th>2009 [YR2009]</th>\n",
       "      <th>2012 [YR2012]</th>\n",
       "      <th>2015 [YR2015]</th>\n",
       "      <th>2018 [YR2018]</th>\n",
       "    </tr>\n",
       "  </thead>\n",
       "  <tbody>\n",
       "    <tr>\n",
       "      <th>50</th>\n",
       "      <td>Korea, Rep.</td>\n",
       "      <td>KOR</td>\n",
       "      <td>PISA: Mean performance on the reading scale</td>\n",
       "      <td>LO.PISA.REA</td>\n",
       "      <td>524.754298913351</td>\n",
       "      <td>534.09126443</td>\n",
       "      <td>556.021910226254</td>\n",
       "      <td>539.267483427654</td>\n",
       "      <td>535.790490</td>\n",
       "      <td>517.4367</td>\n",
       "      <td>514.052287958269</td>\n",
       "    </tr>\n",
       "    <tr>\n",
       "      <th>51</th>\n",
       "      <td>Korea, Rep.</td>\n",
       "      <td>KOR</td>\n",
       "      <td>PISA: Mean performance on the reading scale. F...</td>\n",
       "      <td>LO.PISA.REA.FE</td>\n",
       "      <td>532.71562446411</td>\n",
       "      <td>546.73116464</td>\n",
       "      <td>573.781294077605</td>\n",
       "      <td>557.982544274323</td>\n",
       "      <td>548.206691</td>\n",
       "      <td>538.609217621669</td>\n",
       "      <td>526.406274343338</td>\n",
       "    </tr>\n",
       "    <tr>\n",
       "      <th>52</th>\n",
       "      <td>Korea, Rep.</td>\n",
       "      <td>KOR</td>\n",
       "      <td>PISA: Mean performance on the reading scale. Male</td>\n",
       "      <td>LO.PISA.REA.MA</td>\n",
       "      <td>518.502628907568</td>\n",
       "      <td>525.47687253</td>\n",
       "      <td>538.75514407964</td>\n",
       "      <td>522.503358452028</td>\n",
       "      <td>524.964649</td>\n",
       "      <td>498.068987929607</td>\n",
       "      <td>502.840138194686</td>\n",
       "    </tr>\n",
       "  </tbody>\n",
       "</table>\n",
       "</div>\n",
       "      <button class=\"colab-df-convert\" onclick=\"convertToInteractive('df-8a85c557-a96c-49c6-acec-5bad02954c36')\"\n",
       "              title=\"Convert this dataframe to an interactive table.\"\n",
       "              style=\"display:none;\">\n",
       "        \n",
       "  <svg xmlns=\"http://www.w3.org/2000/svg\" height=\"24px\"viewBox=\"0 0 24 24\"\n",
       "       width=\"24px\">\n",
       "    <path d=\"M0 0h24v24H0V0z\" fill=\"none\"/>\n",
       "    <path d=\"M18.56 5.44l.94 2.06.94-2.06 2.06-.94-2.06-.94-.94-2.06-.94 2.06-2.06.94zm-11 1L8.5 8.5l.94-2.06 2.06-.94-2.06-.94L8.5 2.5l-.94 2.06-2.06.94zm10 10l.94 2.06.94-2.06 2.06-.94-2.06-.94-.94-2.06-.94 2.06-2.06.94z\"/><path d=\"M17.41 7.96l-1.37-1.37c-.4-.4-.92-.59-1.43-.59-.52 0-1.04.2-1.43.59L10.3 9.45l-7.72 7.72c-.78.78-.78 2.05 0 2.83L4 21.41c.39.39.9.59 1.41.59.51 0 1.02-.2 1.41-.59l7.78-7.78 2.81-2.81c.8-.78.8-2.07 0-2.86zM5.41 20L4 18.59l7.72-7.72 1.47 1.35L5.41 20z\"/>\n",
       "  </svg>\n",
       "      </button>\n",
       "      \n",
       "  <style>\n",
       "    .colab-df-container {\n",
       "      display:flex;\n",
       "      flex-wrap:wrap;\n",
       "      gap: 12px;\n",
       "    }\n",
       "\n",
       "    .colab-df-convert {\n",
       "      background-color: #E8F0FE;\n",
       "      border: none;\n",
       "      border-radius: 50%;\n",
       "      cursor: pointer;\n",
       "      display: none;\n",
       "      fill: #1967D2;\n",
       "      height: 32px;\n",
       "      padding: 0 0 0 0;\n",
       "      width: 32px;\n",
       "    }\n",
       "\n",
       "    .colab-df-convert:hover {\n",
       "      background-color: #E2EBFA;\n",
       "      box-shadow: 0px 1px 2px rgba(60, 64, 67, 0.3), 0px 1px 3px 1px rgba(60, 64, 67, 0.15);\n",
       "      fill: #174EA6;\n",
       "    }\n",
       "\n",
       "    [theme=dark] .colab-df-convert {\n",
       "      background-color: #3B4455;\n",
       "      fill: #D2E3FC;\n",
       "    }\n",
       "\n",
       "    [theme=dark] .colab-df-convert:hover {\n",
       "      background-color: #434B5C;\n",
       "      box-shadow: 0px 1px 3px 1px rgba(0, 0, 0, 0.15);\n",
       "      filter: drop-shadow(0px 1px 2px rgba(0, 0, 0, 0.3));\n",
       "      fill: #FFFFFF;\n",
       "    }\n",
       "  </style>\n",
       "\n",
       "      <script>\n",
       "        const buttonEl =\n",
       "          document.querySelector('#df-8a85c557-a96c-49c6-acec-5bad02954c36 button.colab-df-convert');\n",
       "        buttonEl.style.display =\n",
       "          google.colab.kernel.accessAllowed ? 'block' : 'none';\n",
       "\n",
       "        async function convertToInteractive(key) {\n",
       "          const element = document.querySelector('#df-8a85c557-a96c-49c6-acec-5bad02954c36');\n",
       "          const dataTable =\n",
       "            await google.colab.kernel.invokeFunction('convertToInteractive',\n",
       "                                                     [key], {});\n",
       "          if (!dataTable) return;\n",
       "\n",
       "          const docLinkHtml = 'Like what you see? Visit the ' +\n",
       "            '<a target=\"_blank\" href=https://colab.research.google.com/notebooks/data_table.ipynb>data table notebook</a>'\n",
       "            + ' to learn more about interactive tables.';\n",
       "          element.innerHTML = '';\n",
       "          dataTable['output_type'] = 'display_data';\n",
       "          await google.colab.output.renderOutput(dataTable, element);\n",
       "          const docLink = document.createElement('div');\n",
       "          docLink.innerHTML = docLinkHtml;\n",
       "          element.appendChild(docLink);\n",
       "        }\n",
       "      </script>\n",
       "    </div>\n",
       "  </div>\n",
       "  "
      ],
      "text/plain": [
       "   Country Name Country Code  \\\n",
       "50  Korea, Rep.          KOR   \n",
       "51  Korea, Rep.          KOR   \n",
       "52  Korea, Rep.          KOR   \n",
       "\n",
       "                                               Series     Series Code  \\\n",
       "50        PISA: Mean performance on the reading scale     LO.PISA.REA   \n",
       "51  PISA: Mean performance on the reading scale. F...  LO.PISA.REA.FE   \n",
       "52  PISA: Mean performance on the reading scale. Male  LO.PISA.REA.MA   \n",
       "\n",
       "       2000 [YR2000] 2003 [YR2003]     2006 [YR2006]     2009 [YR2009]  \\\n",
       "50  524.754298913351  534.09126443  556.021910226254  539.267483427654   \n",
       "51   532.71562446411  546.73116464  573.781294077605  557.982544274323   \n",
       "52  518.502628907568  525.47687253   538.75514407964  522.503358452028   \n",
       "\n",
       "    2012 [YR2012]     2015 [YR2015]     2018 [YR2018]  \n",
       "50     535.790490          517.4367  514.052287958269  \n",
       "51     548.206691  538.609217621669  526.406274343338  \n",
       "52     524.964649  498.068987929607  502.840138194686  "
      ]
     },
     "execution_count": 37,
     "metadata": {},
     "output_type": "execute_result"
    }
   ],
   "source": [
    "pisa_korea_mean = pisa_korea1.loc[50:52]\n",
    "pisa_korea_mean"
   ]
  },
  {
   "cell_type": "markdown",
   "metadata": {
    "id": "Uj_6mhoWOWTQ"
   },
   "source": [
    "### 2.2. columns 명칭 바꾸기\n"
   ]
  },
  {
   "cell_type": "markdown",
   "metadata": {
    "id": "DFjpS6pJOlOn"
   },
   "source": [
    "`2000 [YR2000]\t2003 [YR2003]\t2006 [YR2006]\t2009 [YR2009]\t2012 [YR2012]\t2015 [YR2015]\t2018 [YR2018]` 컬럼명을 \n",
    "\n",
    "`2000 \t2003 \t2006 \t2009 \t2012 \t2015 \t2018 ` 컬럼명으로 바꿉니다."
   ]
  },
  {
   "cell_type": "code",
   "execution_count": 38,
   "metadata": {
    "id": "XIYlEQ2QOhho"
   },
   "outputs": [],
   "source": [
    "pisa_korea_mean1 = pisa_korea_mean.rename(columns={\n",
    "    \"2000 [YR2000]\" : \"2000\",\n",
    "    \"2003 [YR2003]\" : \"2003\",\n",
    "    \"2006 [YR2006]\" : \"2006\",\n",
    "    \"2009 [YR2009]\" : \"2009\",\n",
    "    \"2012 [YR2012]\" : \"2012\",\n",
    "    \"2015 [YR2015]\" : \"2015\",\n",
    "    \"2018 [YR2018]\" : \"2018\"\n",
    "})"
   ]
  },
  {
   "cell_type": "code",
   "execution_count": 39,
   "metadata": {
    "colab": {
     "base_uri": "https://localhost:8080/",
     "height": 143
    },
    "id": "XBBv-OQCRo-t",
    "outputId": "bcf7ec17-6622-46f9-f9e3-7bc49fe38df5"
   },
   "outputs": [
    {
     "data": {
      "text/html": [
       "\n",
       "  <div id=\"df-33c3b1d5-456a-4e76-b8ee-b3f31b1cf8a8\">\n",
       "    <div class=\"colab-df-container\">\n",
       "      <div>\n",
       "<style scoped>\n",
       "    .dataframe tbody tr th:only-of-type {\n",
       "        vertical-align: middle;\n",
       "    }\n",
       "\n",
       "    .dataframe tbody tr th {\n",
       "        vertical-align: top;\n",
       "    }\n",
       "\n",
       "    .dataframe thead th {\n",
       "        text-align: right;\n",
       "    }\n",
       "</style>\n",
       "<table border=\"1\" class=\"dataframe\">\n",
       "  <thead>\n",
       "    <tr style=\"text-align: right;\">\n",
       "      <th></th>\n",
       "      <th>Country Name</th>\n",
       "      <th>Country Code</th>\n",
       "      <th>Series</th>\n",
       "      <th>Series Code</th>\n",
       "      <th>2000</th>\n",
       "      <th>2003</th>\n",
       "      <th>2006</th>\n",
       "      <th>2009</th>\n",
       "      <th>2012</th>\n",
       "      <th>2015</th>\n",
       "      <th>2018</th>\n",
       "    </tr>\n",
       "  </thead>\n",
       "  <tbody>\n",
       "    <tr>\n",
       "      <th>50</th>\n",
       "      <td>Korea, Rep.</td>\n",
       "      <td>KOR</td>\n",
       "      <td>PISA: Mean performance on the reading scale</td>\n",
       "      <td>LO.PISA.REA</td>\n",
       "      <td>524.754298913351</td>\n",
       "      <td>534.09126443</td>\n",
       "      <td>556.021910226254</td>\n",
       "      <td>539.267483427654</td>\n",
       "      <td>535.790490</td>\n",
       "      <td>517.4367</td>\n",
       "      <td>514.052287958269</td>\n",
       "    </tr>\n",
       "    <tr>\n",
       "      <th>51</th>\n",
       "      <td>Korea, Rep.</td>\n",
       "      <td>KOR</td>\n",
       "      <td>PISA: Mean performance on the reading scale. F...</td>\n",
       "      <td>LO.PISA.REA.FE</td>\n",
       "      <td>532.71562446411</td>\n",
       "      <td>546.73116464</td>\n",
       "      <td>573.781294077605</td>\n",
       "      <td>557.982544274323</td>\n",
       "      <td>548.206691</td>\n",
       "      <td>538.609217621669</td>\n",
       "      <td>526.406274343338</td>\n",
       "    </tr>\n",
       "    <tr>\n",
       "      <th>52</th>\n",
       "      <td>Korea, Rep.</td>\n",
       "      <td>KOR</td>\n",
       "      <td>PISA: Mean performance on the reading scale. Male</td>\n",
       "      <td>LO.PISA.REA.MA</td>\n",
       "      <td>518.502628907568</td>\n",
       "      <td>525.47687253</td>\n",
       "      <td>538.75514407964</td>\n",
       "      <td>522.503358452028</td>\n",
       "      <td>524.964649</td>\n",
       "      <td>498.068987929607</td>\n",
       "      <td>502.840138194686</td>\n",
       "    </tr>\n",
       "  </tbody>\n",
       "</table>\n",
       "</div>\n",
       "      <button class=\"colab-df-convert\" onclick=\"convertToInteractive('df-33c3b1d5-456a-4e76-b8ee-b3f31b1cf8a8')\"\n",
       "              title=\"Convert this dataframe to an interactive table.\"\n",
       "              style=\"display:none;\">\n",
       "        \n",
       "  <svg xmlns=\"http://www.w3.org/2000/svg\" height=\"24px\"viewBox=\"0 0 24 24\"\n",
       "       width=\"24px\">\n",
       "    <path d=\"M0 0h24v24H0V0z\" fill=\"none\"/>\n",
       "    <path d=\"M18.56 5.44l.94 2.06.94-2.06 2.06-.94-2.06-.94-.94-2.06-.94 2.06-2.06.94zm-11 1L8.5 8.5l.94-2.06 2.06-.94-2.06-.94L8.5 2.5l-.94 2.06-2.06.94zm10 10l.94 2.06.94-2.06 2.06-.94-2.06-.94-.94-2.06-.94 2.06-2.06.94z\"/><path d=\"M17.41 7.96l-1.37-1.37c-.4-.4-.92-.59-1.43-.59-.52 0-1.04.2-1.43.59L10.3 9.45l-7.72 7.72c-.78.78-.78 2.05 0 2.83L4 21.41c.39.39.9.59 1.41.59.51 0 1.02-.2 1.41-.59l7.78-7.78 2.81-2.81c.8-.78.8-2.07 0-2.86zM5.41 20L4 18.59l7.72-7.72 1.47 1.35L5.41 20z\"/>\n",
       "  </svg>\n",
       "      </button>\n",
       "      \n",
       "  <style>\n",
       "    .colab-df-container {\n",
       "      display:flex;\n",
       "      flex-wrap:wrap;\n",
       "      gap: 12px;\n",
       "    }\n",
       "\n",
       "    .colab-df-convert {\n",
       "      background-color: #E8F0FE;\n",
       "      border: none;\n",
       "      border-radius: 50%;\n",
       "      cursor: pointer;\n",
       "      display: none;\n",
       "      fill: #1967D2;\n",
       "      height: 32px;\n",
       "      padding: 0 0 0 0;\n",
       "      width: 32px;\n",
       "    }\n",
       "\n",
       "    .colab-df-convert:hover {\n",
       "      background-color: #E2EBFA;\n",
       "      box-shadow: 0px 1px 2px rgba(60, 64, 67, 0.3), 0px 1px 3px 1px rgba(60, 64, 67, 0.15);\n",
       "      fill: #174EA6;\n",
       "    }\n",
       "\n",
       "    [theme=dark] .colab-df-convert {\n",
       "      background-color: #3B4455;\n",
       "      fill: #D2E3FC;\n",
       "    }\n",
       "\n",
       "    [theme=dark] .colab-df-convert:hover {\n",
       "      background-color: #434B5C;\n",
       "      box-shadow: 0px 1px 3px 1px rgba(0, 0, 0, 0.15);\n",
       "      filter: drop-shadow(0px 1px 2px rgba(0, 0, 0, 0.3));\n",
       "      fill: #FFFFFF;\n",
       "    }\n",
       "  </style>\n",
       "\n",
       "      <script>\n",
       "        const buttonEl =\n",
       "          document.querySelector('#df-33c3b1d5-456a-4e76-b8ee-b3f31b1cf8a8 button.colab-df-convert');\n",
       "        buttonEl.style.display =\n",
       "          google.colab.kernel.accessAllowed ? 'block' : 'none';\n",
       "\n",
       "        async function convertToInteractive(key) {\n",
       "          const element = document.querySelector('#df-33c3b1d5-456a-4e76-b8ee-b3f31b1cf8a8');\n",
       "          const dataTable =\n",
       "            await google.colab.kernel.invokeFunction('convertToInteractive',\n",
       "                                                     [key], {});\n",
       "          if (!dataTable) return;\n",
       "\n",
       "          const docLinkHtml = 'Like what you see? Visit the ' +\n",
       "            '<a target=\"_blank\" href=https://colab.research.google.com/notebooks/data_table.ipynb>data table notebook</a>'\n",
       "            + ' to learn more about interactive tables.';\n",
       "          element.innerHTML = '';\n",
       "          dataTable['output_type'] = 'display_data';\n",
       "          await google.colab.output.renderOutput(dataTable, element);\n",
       "          const docLink = document.createElement('div');\n",
       "          docLink.innerHTML = docLinkHtml;\n",
       "          element.appendChild(docLink);\n",
       "        }\n",
       "      </script>\n",
       "    </div>\n",
       "  </div>\n",
       "  "
      ],
      "text/plain": [
       "   Country Name Country Code  \\\n",
       "50  Korea, Rep.          KOR   \n",
       "51  Korea, Rep.          KOR   \n",
       "52  Korea, Rep.          KOR   \n",
       "\n",
       "                                               Series     Series Code  \\\n",
       "50        PISA: Mean performance on the reading scale     LO.PISA.REA   \n",
       "51  PISA: Mean performance on the reading scale. F...  LO.PISA.REA.FE   \n",
       "52  PISA: Mean performance on the reading scale. Male  LO.PISA.REA.MA   \n",
       "\n",
       "                2000          2003              2006              2009  \\\n",
       "50  524.754298913351  534.09126443  556.021910226254  539.267483427654   \n",
       "51   532.71562446411  546.73116464  573.781294077605  557.982544274323   \n",
       "52  518.502628907568  525.47687253   538.75514407964  522.503358452028   \n",
       "\n",
       "          2012              2015              2018  \n",
       "50  535.790490          517.4367  514.052287958269  \n",
       "51  548.206691  538.609217621669  526.406274343338  \n",
       "52  524.964649  498.068987929607  502.840138194686  "
      ]
     },
     "execution_count": 39,
     "metadata": {},
     "output_type": "execute_result"
    }
   ],
   "source": [
    "pisa_korea_mean1"
   ]
  },
  {
   "cell_type": "markdown",
   "metadata": {
    "id": "_vf2_PN4BbyC"
   },
   "source": [
    "---"
   ]
  },
  {
   "cell_type": "markdown",
   "metadata": {
    "id": "IBo1CaMwUfwL"
   },
   "source": [
    "### 2.3 object 타입을 float64로 통일하기"
   ]
  },
  {
   "cell_type": "markdown",
   "metadata": {
    "id": "hQFu3oFtUw_L"
   },
   "source": [
    "`2000 ~ 2018` 년도 columns에 있는 값의 타입을 `float64`로 통일합니다."
   ]
  },
  {
   "cell_type": "code",
   "execution_count": 46,
   "metadata": {
    "colab": {
     "base_uri": "https://localhost:8080/"
    },
    "id": "U30fe5UCU8-S",
    "outputId": "194499c6-bb85-4365-9b0d-5c3ec018eaf1"
   },
   "outputs": [
    {
     "name": "stdout",
     "output_type": "stream",
     "text": [
      "<class 'pandas.core.frame.DataFrame'>\n",
      "Int64Index: 3 entries, 50 to 52\n",
      "Data columns (total 11 columns):\n",
      " #   Column        Non-Null Count  Dtype  \n",
      "---  ------        --------------  -----  \n",
      " 0   Country Name  3 non-null      object \n",
      " 1   Country Code  3 non-null      object \n",
      " 2   Series        3 non-null      object \n",
      " 3   Series Code   3 non-null      object \n",
      " 4   2000          3 non-null      float64\n",
      " 5   2003          3 non-null      float64\n",
      " 6   2006          3 non-null      float64\n",
      " 7   2009          3 non-null      float64\n",
      " 8   2012          3 non-null      float64\n",
      " 9   2015          3 non-null      float64\n",
      " 10  2018          3 non-null      float64\n",
      "dtypes: float64(7), object(4)\n",
      "memory usage: 396.0+ bytes\n"
     ]
    }
   ],
   "source": [
    "for col in [\"2000\", \"2003\", \"2006\", \"2009\", \"2012\", \"2015\", \"2018\"]:\n",
    "  pisa_korea_mean1[col] = pisa_korea_mean1[col].astype(\"float64\")\n",
    "\n",
    "pisa_korea_mean1.info()"
   ]
  },
  {
   "cell_type": "markdown",
   "metadata": {
    "id": "2CFELljJwUBp"
   },
   "source": [
    "## 3. 데이터 시각화"
   ]
  },
  {
   "cell_type": "markdown",
   "metadata": {
    "id": "J-FS9HekwUBq"
   },
   "source": [
    "데이터 정제를 완료한 `pisa_korea_mean1` 데이터를 바탕으로 \n",
    "\n",
    "연도별 평균값을 그래프를 통해 시각화합니다."
   ]
  },
  {
   "cell_type": "markdown",
   "metadata": {
    "id": "VKJwRyocLzaP"
   },
   "source": [
    "### 3.1. 연도별 평균 그래프"
   ]
  },
  {
   "cell_type": "markdown",
   "metadata": {
    "id": "c7ub55_ILzXK"
   },
   "source": [
    "`bar 그래프`를 그려봅니다."
   ]
  },
  {
   "cell_type": "code",
   "execution_count": 77,
   "metadata": {
    "colab": {
     "base_uri": "https://localhost:8080/",
     "height": 615
    },
    "id": "A5n2eb2nSBWe",
    "outputId": "a53c3b2b-30f9-4fe9-f423-f34bc1623e07"
   },
   "outputs": [
    {
     "data": {
      "image/png": "[encoded data removed]",
      "text/plain": [
       "<Figure size 2592x864 with 3 Axes>"
      ]
     },
     "metadata": {
      "needs_background": "light"
     },
     "output_type": "display_data"
    }
   ],
   "source": [
    "pisa_korea_mean_T = pisa_korea_mean1.loc[50, \"2000\":\"2018\"].astype('float64')\n",
    "\n",
    "pisa_korea_mean_F = pisa_korea_mean1.loc[51, \"2000\":\"2018\"].astype('float64')\n",
    "\n",
    "pisa_korea_mean_M = pisa_korea_mean1.loc[52, \"2000\":\"2018\"].astype('float64')\n",
    "\n",
    "plt.figure(figsize=(36,12))\n",
    "plt.rc('font', family='NanumGothic') # For Windows\n",
    "\n",
    "# 직접 color 지정 시 아래\n",
    "# colors = ['black','dimgray','dimgrey','darkgray','silver','lightgrey']\n",
    "\n",
    "# 팔레트 이용 시 아래\n",
    "colors = sns.color_palette('hls',len(pisa_korea_mean_T.index))\n",
    "\n",
    "\n",
    "plt.subplot(131)\n",
    "plt.bar(pisa_korea_mean_T.index, pisa_korea_mean_T.values, color=colors)\n",
    "plt.plot(pisa_korea_mean_T.index, pisa_korea_mean_T.values, color='#524FA1', marker='o', linestyle='--')\n",
    "plt.ylim(500,570)\n",
    "plt.xticks(rotation = 30, fontsize=14)\n",
    "plt.yticks(fontsize=14)\n",
    "plt.xlabel('year', fontsize=14)\n",
    "plt.ylabel('average score', fontsize=14)\n",
    "plt.title('Total Average', fontsize=24)\n",
    "\n",
    "plt.subplot(132)\n",
    "plt.bar(pisa_korea_mean_F.index, pisa_korea_mean_F.values, color=colors)\n",
    "plt.plot(pisa_korea_mean_F.index, pisa_korea_mean_F.values, color='#524FA1', marker='o', linestyle='--')\n",
    "plt.ylim(510,580)\n",
    "plt.xticks(rotation = 30, fontsize=14)\n",
    "plt.yticks(fontsize=14)\n",
    "plt.xlabel('year', fontsize=14)\n",
    "plt.ylabel('average score', fontsize=14)\n",
    "plt.title('Female Average', fontsize=24)\n",
    "\n",
    "plt.subplot(133)\n",
    "plt.bar(pisa_korea_mean_M.index, pisa_korea_mean_M.values, color=colors)\n",
    "plt.plot(pisa_korea_mean_M.index, pisa_korea_mean_M.values, color='#524FA1', marker='o', linestyle='--')\n",
    "plt.ylim(490,560)\n",
    "plt.xticks(rotation = 30, fontsize=14)\n",
    "plt.yticks(fontsize=14)\n",
    "plt.xlabel('year', fontsize=14)\n",
    "plt.ylabel('average score', fontsize=14)\n",
    "plt.title('Male Average', fontsize=24)\n",
    "plt.show()\n",
    "\n",
    "# 아래 것은 DataFrame.plot을 통해 한 번에 그리려고 시도했는데, 옵션이 좀 다르고 길어져서 포기\n",
    "# pisa_korea_mean_T.plot(x=pisa_korea_mean_T.index, y=pisa_korea_mean_T.values, kind=\"bar\", figsize=(12, 12), fontsize=14, \n",
    "#                        colormap='flag')\n",
    "\n"
   ]
  }
 ],
 "metadata": {
  "colab": {
   "name": "[p1]데이터_분석_프로젝트.ipynb",
   "provenance": []
  },
  "kernelspec": {
   "display_name": "Python 3 (ipykernel)",
   "language": "python",
   "name": "python3"
  },
  "language_info": {
   "codemirror_mode": {
    "name": "ipython",
    "version": 3
   },
   "file_extension": ".py",
   "mimetype": "text/x-python",
   "name": "python",
   "nbconvert_exporter": "python",
   "pygments_lexer": "ipython3",
   "version": "3.9.7"
  },
  "toc": {
   "base_numbering": 1,
   "nav_menu": {},
   "number_sections": false,
   "sideBar": true,
   "skip_h1_title": false,
   "title_cell": "Table of Contents",
   "title_sidebar": "Contents",
   "toc_cell": false,
   "toc_position": {
    "height": "calc(100% - 180px)",
    "left": "10px",
    "top": "150px",
    "width": "307.2px"
   },
   "toc_section_display": true,
   "toc_window_display": true
  }
 },
 "nbformat": 4,
 "nbformat_minor": 1
}
