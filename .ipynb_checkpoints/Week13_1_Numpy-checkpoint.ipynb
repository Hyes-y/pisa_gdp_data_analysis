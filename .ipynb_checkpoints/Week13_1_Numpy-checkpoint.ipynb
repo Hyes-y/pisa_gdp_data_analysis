{
 "cells": [
  {
   "cell_type": "markdown",
   "metadata": {
    "id": "PfJWp-4DYvPY"
   },
   "source": [
    "## Numpy Contents\n",
    "\n",
    "#### 1-1. 배열\n",
    "#### 1-2. 배열의 속성 : shape, reshape, dtype, indexing 등\n",
    "#### 1-3. 배열의 연산 \n",
    "#### 1-4. 배열의 마스킹 연산\n",
    "#### 1-5. Broadcasting\n",
    "#### 1-6. 집계함수\n",
    "\n"
   ]
  },
  {
   "cell_type": "code",
   "execution_count": null,
   "metadata": {
    "colab": {
     "base_uri": "https://localhost:8080/"
    },
    "executionInfo": {
     "elapsed": 292,
     "status": "ok",
     "timestamp": 1649727336925,
     "user": {
      "displayName": "유혜선",
      "userId": "17425966698671507321"
     },
     "user_tz": -540
    },
    "id": "Lo29r31sZo5R",
    "outputId": "62c5594e-a492-48c7-96ba-fcf5205308da"
   },
   "outputs": [
    {
     "name": "stdout",
     "output_type": "stream",
     "text": [
      "aa\n",
      "bb\n"
     ]
    }
   ],
   "source": [
    "print('aa')\n",
    "print('bb')"
   ]
  },
  {
   "cell_type": "code",
   "execution_count": 1,
   "metadata": {
    "id": "hC1Ne1gFZSDm"
   },
   "outputs": [],
   "source": [
    "# numpy 를 사용하면 좋은 이유!\n",
    "\n",
    "import numpy as np "
   ]
  },
  {
   "cell_type": "code",
   "execution_count": null,
   "metadata": {
    "colab": {
     "base_uri": "https://localhost:8080/"
    },
    "executionInfo": {
     "elapsed": 2474,
     "status": "ok",
     "timestamp": 1649727347554,
     "user": {
      "displayName": "유혜선",
      "userId": "17425966698671507321"
     },
     "user_tz": -540
    },
    "id": "pZTyZnhqceed",
    "outputId": "1fb6595f-ca00-4bae-f195-9ed91df39a60"
   },
   "outputs": [
    {
     "name": "stdout",
     "output_type": "stream",
     "text": [
      "1000 loops, best of 5: 352 µs per loop\n"
     ]
    }
   ],
   "source": [
    "%timeit np.array([x**2 for x in range(1000)]) # 제곱을 한 값을 list에 넣고, array로 만들어줍니다. (가장 느림)"
   ]
  },
  {
   "cell_type": "code",
   "execution_count": null,
   "metadata": {
    "colab": {
     "base_uri": "https://localhost:8080/"
    },
    "executionInfo": {
     "elapsed": 9377,
     "status": "ok",
     "timestamp": 1649727629218,
     "user": {
      "displayName": "유혜선",
      "userId": "17425966698671507321"
     },
     "user_tz": -540
    },
    "id": "popKqRAxcclC",
    "outputId": "092b1bcf-312b-4cd5-e725-4997d95cea8f"
   },
   "outputs": [
    {
     "name": "stdout",
     "output_type": "stream",
     "text": [
      "The slowest run took 35.45 times longer than the fastest. This could mean that an intermediate result is being cached.\n",
      "10000 loops, best of 5: 132 µs per loop\n"
     ]
    }
   ],
   "source": [
    "%timeit np.array([x for x in range(1000)])**2 # 0~9를 list에 넣고, array로 만든 뒤 제곱합니다."
   ]
  },
  {
   "cell_type": "code",
   "execution_count": null,
   "metadata": {
    "colab": {
     "base_uri": "https://localhost:8080/"
    },
    "executionInfo": {
     "elapsed": 2007,
     "status": "ok",
     "timestamp": 1649727631207,
     "user": {
      "displayName": "유혜선",
      "userId": "17425966698671507321"
     },
     "user_tz": -540
    },
    "id": "uBk8W2ybciek",
    "outputId": "ab480999-fa11-4f3c-bf56-e321eace7ac2"
   },
   "outputs": [
    {
     "name": "stdout",
     "output_type": "stream",
     "text": [
      "The slowest run took 28.38 times longer than the fastest. This could mean that an intermediate result is being cached.\n",
      "100000 loops, best of 5: 3.12 µs per loop\n"
     ]
    }
   ],
   "source": [
    "%timeit np.arange(1000)**2 # arange 함수를 통해 0~9로 이루어진 array를 만들고, 제곱합니다. (가장 빠름)"
   ]
  },
  {
   "cell_type": "markdown",
   "metadata": {
    "id": "VyYorx8BZSo4"
   },
   "source": [
    "### 1-1. 배열\n"
   ]
  },
  {
   "cell_type": "code",
   "execution_count": null,
   "metadata": {
    "colab": {
     "base_uri": "https://localhost:8080/"
    },
    "executionInfo": {
     "elapsed": 492,
     "status": "ok",
     "timestamp": 1649660194255,
     "user": {
      "displayName": "teddy t",
      "userId": "08366841288043499655"
     },
     "user_tz": -540
    },
    "id": "Ru3znCgkP_W8",
    "outputId": "0f41acff-aac5-4cba-9f31-15f56231b2df"
   },
   "outputs": [
    {
     "name": "stdout",
     "output_type": "stream",
     "text": [
      "[  3  33 333]\n"
     ]
    }
   ],
   "source": [
    "array_1d = np.array([3, 33, 333])  \n",
    "print(array_1d) "
   ]
  },
  {
   "cell_type": "code",
   "execution_count": null,
   "metadata": {
    "colab": {
     "base_uri": "https://localhost:8080/"
    },
    "executionInfo": {
     "elapsed": 9,
     "status": "ok",
     "timestamp": 1649660194684,
     "user": {
      "displayName": "teddy t",
      "userId": "08366841288043499655"
     },
     "user_tz": -540
    },
    "id": "wKThQKMuZTk4",
    "outputId": "01c74ec6-0928-457a-befa-1d127f35d2cf"
   },
   "outputs": [
    {
     "name": "stdout",
     "output_type": "stream",
     "text": [
      "[[1 2 3]\n",
      " [4 5 6]]\n"
     ]
    }
   ],
   "source": [
    "array_2d = np.array([[1,2,3],[4,5,6]])\n",
    "print(array_2d) "
   ]
  },
  {
   "cell_type": "code",
   "execution_count": null,
   "metadata": {
    "colab": {
     "base_uri": "https://localhost:8080/"
    },
    "executionInfo": {
     "elapsed": 337,
     "status": "ok",
     "timestamp": 1649660200931,
     "user": {
      "displayName": "teddy t",
      "userId": "08366841288043499655"
     },
     "user_tz": -540
    },
    "id": "zrfkOkX9ZTnH",
    "outputId": "5b33bed9-8034-42ad-9eaa-a03d3d5709a0"
   },
   "outputs": [
    {
     "name": "stdout",
     "output_type": "stream",
     "text": [
      "[[[ 1  2  3]\n",
      "  [ 4  5  6]]\n",
      "\n",
      " [[ 7  8  9]\n",
      "  [10 11 12]]]\n"
     ]
    }
   ],
   "source": [
    "array_3d = np.array([[[1,2,3],[4,5,6]],[[7,8,9],[10,11,12]]])\n",
    "print(array_3d) "
   ]
  },
  {
   "cell_type": "code",
   "execution_count": null,
   "metadata": {
    "id": "EyR-1EJsaWDz"
   },
   "outputs": [],
   "source": []
  },
  {
   "cell_type": "markdown",
   "metadata": {
    "id": "GcQZsYAaZVBI"
   },
   "source": [
    "### 1-2. 배열의 속성 : shape, reshape, dtype, indexing"
   ]
  },
  {
   "cell_type": "code",
   "execution_count": null,
   "metadata": {
    "colab": {
     "base_uri": "https://localhost:8080/"
    },
    "executionInfo": {
     "elapsed": 4,
     "status": "ok",
     "timestamp": 1649660300012,
     "user": {
      "displayName": "teddy t",
      "userId": "08366841288043499655"
     },
     "user_tz": -540
    },
    "id": "7kXhstVDZTpg",
    "outputId": "b7260421-6d33-4f3b-d215-d2162e91d0b9"
   },
   "outputs": [
    {
     "name": "stdout",
     "output_type": "stream",
     "text": [
      "(3,)\n",
      "(2, 3)\n",
      "(2, 2, 3)\n"
     ]
    }
   ],
   "source": [
    "# shape\n",
    "print(array_1d.shape)\n",
    "print(array_2d.shape)\n",
    "print(array_3d.shape)"
   ]
  },
  {
   "cell_type": "code",
   "execution_count": null,
   "metadata": {
    "colab": {
     "base_uri": "https://localhost:8080/"
    },
    "executionInfo": {
     "elapsed": 2,
     "status": "ok",
     "timestamp": 1649660388645,
     "user": {
      "displayName": "teddy t",
      "userId": "08366841288043499655"
     },
     "user_tz": -540
    },
    "id": "il3a3-QOaxjp",
    "outputId": "0b663bbe-7873-4a5d-f37b-7ce88050c39d"
   },
   "outputs": [
    {
     "name": "stdout",
     "output_type": "stream",
     "text": [
      "[[0. 0.]\n",
      " [0. 0.]]\n",
      "(2, 2)\n"
     ]
    }
   ],
   "source": [
    "# zero vector 만들기\n",
    "zero_array_2d = np.zeros((2,2)) \n",
    "print(zero_array_2d)\n",
    "print(zero_array_2d.shape)"
   ]
  },
  {
   "cell_type": "code",
   "execution_count": null,
   "metadata": {
    "colab": {
     "base_uri": "https://localhost:8080/"
    },
    "executionInfo": {
     "elapsed": 328,
     "status": "ok",
     "timestamp": 1649660557240,
     "user": {
      "displayName": "teddy t",
      "userId": "08366841288043499655"
     },
     "user_tz": -540
    },
    "id": "xHtPvd6pbW8P",
    "outputId": "518ae28a-88fa-4f56-a3c2-e6e29ea287b8"
   },
   "outputs": [
    {
     "name": "stdout",
     "output_type": "stream",
     "text": [
      "[[9. 9.]\n",
      " [9. 9.]]\n"
     ]
    }
   ],
   "source": [
    "# 값을 지정하여서 해당 값으로 채워진 ndarray 만들기 \n",
    "full_array = np.full((2,2), 9.0)  # 1st argument: ndarray shape / 2nd argument: value \n",
    "print(full_array)   \n"
   ]
  },
  {
   "cell_type": "code",
   "execution_count": null,
   "metadata": {
    "colab": {
     "base_uri": "https://localhost:8080/"
    },
    "executionInfo": {
     "elapsed": 364,
     "status": "ok",
     "timestamp": 1649660562320,
     "user": {
      "displayName": "teddy t",
      "userId": "08366841288043499655"
     },
     "user_tz": -540
    },
    "id": "KP_g-1BXbnjQ",
    "outputId": "dfce5d4e-0cfe-4f89-eee3-20b80aa81890"
   },
   "outputs": [
    {
     "name": "stdout",
     "output_type": "stream",
     "text": [
      "[[1. 0.]\n",
      " [0. 1.]]\n"
     ]
    }
   ],
   "source": [
    "\n",
    "# 대각선이 1로 구성된 ndrray 만들기 \n",
    "eye_array = np.eye(2,2)\n",
    "print(eye_array)  \n"
   ]
  },
  {
   "cell_type": "code",
   "execution_count": null,
   "metadata": {
    "colab": {
     "base_uri": "https://localhost:8080/"
    },
    "executionInfo": {
     "elapsed": 4,
     "status": "ok",
     "timestamp": 1649660567942,
     "user": {
      "displayName": "teddy t",
      "userId": "08366841288043499655"
     },
     "user_tz": -540
    },
    "id": "uIaQ2Iqubo-u",
    "outputId": "9623f022-de5b-4f47-9c32-07e805b565f9"
   },
   "outputs": [
    {
     "name": "stdout",
     "output_type": "stream",
     "text": [
      "[[1. 1.]]\n"
     ]
    }
   ],
   "source": [
    "\n",
    "# 1로만 구성된 ndarray 만들기 \n",
    "one_array = np.ones((1,2))\n",
    "print(one_array)    \n"
   ]
  },
  {
   "cell_type": "code",
   "execution_count": null,
   "metadata": {
    "colab": {
     "base_uri": "https://localhost:8080/"
    },
    "executionInfo": {
     "elapsed": 349,
     "status": "ok",
     "timestamp": 1649660573070,
     "user": {
      "displayName": "teddy t",
      "userId": "08366841288043499655"
     },
     "user_tz": -540
    },
    "id": "s_TFQcZabqJ6",
    "outputId": "f9a6b6b4-9dc6-4735-92a5-4581fde4f4d0"
   },
   "outputs": [
    {
     "name": "stdout",
     "output_type": "stream",
     "text": [
      "[[0.30403707 0.45629231]\n",
      " [0.26280501 0.53336943]]\n"
     ]
    }
   ],
   "source": [
    "\n",
    "# 0~! 사이의 임의의 실수로 구성된 ndarray 만들기 \n",
    "random_array = np.random.random((2,2))\n",
    "print(random_array)    \n"
   ]
  },
  {
   "cell_type": "code",
   "execution_count": null,
   "metadata": {
    "colab": {
     "base_uri": "https://localhost:8080/"
    },
    "executionInfo": {
     "elapsed": 343,
     "status": "ok",
     "timestamp": 1649660579080,
     "user": {
      "displayName": "teddy t",
      "userId": "08366841288043499655"
     },
     "user_tz": -540
    },
    "id": "N6PpLne-brUQ",
    "outputId": "b817d6a7-839d-41d6-ddc3-c81d3939767d"
   },
   "outputs": [
    {
     "name": "stdout",
     "output_type": "stream",
     "text": [
      "[0 1 2]\n",
      "[3 4 5 6]\n",
      "[3 5]\n",
      "[3 5 7]\n"
     ]
    }
   ],
   "source": [
    "\n",
    "# 범위를 지정하여서 ndarray를 생성\n",
    "# argument: (start), stop, (step). ()는 default가 0 / stop 미만의 수까지 \n",
    "\n",
    "arange_array = np.arange(3)\n",
    "print(arange_array)\n",
    "\n",
    "arange_array2 = np.arange(3,7)\n",
    "print(arange_array2)\n",
    "\n",
    "arange_array3 = np.arange(3,7,2)\n",
    "print(arange_array3)\n",
    "\n",
    "arange_array4 = np.arange(3,8,2)\n",
    "print(arange_array4)\n"
   ]
  },
  {
   "cell_type": "code",
   "execution_count": null,
   "metadata": {
    "colab": {
     "base_uri": "https://localhost:8080/"
    },
    "executionInfo": {
     "elapsed": 321,
     "status": "ok",
     "timestamp": 1649660458120,
     "user": {
      "displayName": "teddy t",
      "userId": "08366841288043499655"
     },
     "user_tz": -540
    },
    "id": "1w_ZzFInawlb",
    "outputId": "560b5e6a-7056-4a4a-f854-b1b5c0cdcbfc"
   },
   "outputs": [
    {
     "name": "stdout",
     "output_type": "stream",
     "text": [
      "[0. 0. 0. 0.]\n",
      "(4,)\n"
     ]
    }
   ],
   "source": [
    "# reshape\n",
    "zero_array_1d = zero_array_2d.reshape((4))\n",
    "print(zero_array_1d)\n",
    "print(zero_array_1d.shape)\n",
    "\n",
    "# zero_array_1d = zero_array_2d.reshape((5))"
   ]
  },
  {
   "cell_type": "code",
   "execution_count": null,
   "metadata": {
    "colab": {
     "base_uri": "https://localhost:8080/"
    },
    "executionInfo": {
     "elapsed": 340,
     "status": "ok",
     "timestamp": 1649660931508,
     "user": {
      "displayName": "teddy t",
      "userId": "08366841288043499655"
     },
     "user_tz": -540
    },
    "id": "r67oQRh3c_Kn",
    "outputId": "292cfd64-e3a5-41d9-e1f8-8eec4dea931f"
   },
   "outputs": [
    {
     "name": "stdout",
     "output_type": "stream",
     "text": [
      "[[0 0 0]\n",
      " [0 0 0]\n",
      " [0 0 0]] int32\n",
      "[[1. 1.]\n",
      " [1. 1.]] float64\n",
      "[[4.67497604e-310 0.00000000e+000 0.00000000e+000]\n",
      " [0.00000000e+000 0.00000000e+000 0.00000000e+000]\n",
      " [0.00000000e+000 0.00000000e+000 0.00000000e+000]] float64\n"
     ]
    }
   ],
   "source": [
    "# dtype\n",
    "\n",
    "# numpy array를 생성할 때, data type을 지정할 수 있습니다.\n",
    "zeros = np.zeros((3, 3), dtype=np.int32) # create a 3x3 array of 0's\n",
    "ones = np.ones((2, 2), dtype=np.float64) # create a 2x2 array of 1's\n",
    "empty = np.empty((3, 3))\n",
    "\n",
    "print(zeros, zeros.dtype.name)\n",
    "print(ones, ones.dtype.name)\n",
    "print(empty, empty.dtype.name)\n"
   ]
  },
  {
   "cell_type": "code",
   "execution_count": null,
   "metadata": {
    "colab": {
     "base_uri": "https://localhost:8080/"
    },
    "executionInfo": {
     "elapsed": 10,
     "status": "ok",
     "timestamp": 1649660944574,
     "user": {
      "displayName": "teddy t",
      "userId": "08366841288043499655"
     },
     "user_tz": -540
    },
    "id": "0ZGkXhRrdFXV",
    "outputId": "583eff58-9832-4e6c-a79b-4e992c5e1ca0"
   },
   "outputs": [
    {
     "name": "stdout",
     "output_type": "stream",
     "text": [
      "[[4.67497604e-310 0.00000000e+000 0.00000000e+000]\n",
      " [0.00000000e+000 0.00000000e+000 0.00000000e+000]\n",
      " [0.00000000e+000 0.00000000e+000 0.00000000e+000]] float64\n",
      "[[0. 0. 0.]\n",
      " [0. 0. 0.]\n",
      " [0. 0. 0.]] float16\n",
      "[[0 0 0]\n",
      " [0 0 0]\n",
      " [0 0 0]] int64\n"
     ]
    }
   ],
   "source": [
    "# data type의 변경도 가능합니다.\n",
    "print(empty, empty.dtype.name)\n",
    "empty = empty.astype(np.float16)\n",
    "print(empty, empty.dtype.name)\n",
    "empty = empty.astype(int)\n",
    "print(empty, empty.dtype.name)"
   ]
  },
  {
   "cell_type": "code",
   "execution_count": null,
   "metadata": {
    "colab": {
     "base_uri": "https://localhost:8080/"
    },
    "executionInfo": {
     "elapsed": 353,
     "status": "ok",
     "timestamp": 1649660607063,
     "user": {
      "displayName": "teddy t",
      "userId": "08366841288043499655"
     },
     "user_tz": -540
    },
    "id": "QVqubw5JZTuK",
    "outputId": "36f205eb-d351-4103-f091-4a65134617d3"
   },
   "outputs": [
    {
     "name": "stdout",
     "output_type": "stream",
     "text": [
      "[[11 12 13 14]\n",
      " [21 22 23 24]\n",
      " [31 32 33 34]]\n"
     ]
    }
   ],
   "source": [
    "# Array indexing\n",
    "array = np.array([[11,12,13,14],\n",
    "                     [21,22,23,24],\n",
    "                     [31,32,33,34]])\n",
    "print(array)"
   ]
  },
  {
   "cell_type": "code",
   "execution_count": null,
   "metadata": {
    "colab": {
     "base_uri": "https://localhost:8080/"
    },
    "executionInfo": {
     "elapsed": 320,
     "status": "ok",
     "timestamp": 1649660613838,
     "user": {
      "displayName": "teddy t",
      "userId": "08366841288043499655"
     },
     "user_tz": -540
    },
    "id": "crczS_CSZTwX",
    "outputId": "3b4f5d57-ddb6-4410-ae3e-c015e4140615"
   },
   "outputs": [
    {
     "name": "stdout",
     "output_type": "stream",
     "text": [
      "[[12 13]\n",
      " [22 23]]\n",
      "[[33 34]]\n",
      "[[13 14]\n",
      " [23 24]\n",
      " [33 34]]\n",
      "[[21 22 23 24]\n",
      " [31 32 33 34]]\n"
     ]
    }
   ],
   "source": [
    "# 특정 row와 column만을 indexing\n",
    "slice_array = array[:2, 1:3] # [row, column]\n",
    "print(slice_array)\n",
    "print()\n",
    "slice_array = array[2:, 2:4] # [row, column]\n",
    "print(slice_array)\n",
    "print()\n",
    "slice_array = array[:, 2:4] # [row, column]\n",
    "print(slice_array)\n",
    "print()\n",
    "slice_array = array[1:3, :] # [row, column]\n",
    "print(slice_array)\n",
    "print()"
   ]
  },
  {
   "cell_type": "code",
   "execution_count": null,
   "metadata": {
    "colab": {
     "base_uri": "https://localhost:8080/"
    },
    "executionInfo": {
     "elapsed": 9,
     "status": "ok",
     "timestamp": 1649660708430,
     "user": {
      "displayName": "teddy t",
      "userId": "08366841288043499655"
     },
     "user_tz": -540
    },
    "id": "4J2TqDoPcCpk",
    "outputId": "cdca09ad-fecb-4ef8-a81a-c28f40ebe99a"
   },
   "outputs": [
    {
     "name": "stdout",
     "output_type": "stream",
     "text": [
      "[[ 11  12  13 111]\n",
      " [ 21  22  23  24]\n",
      " [ 31  32  33  34]]\n"
     ]
    }
   ],
   "source": [
    "array = np.array([[11,12,13,14],\n",
    "                     [21,22,23,24],\n",
    "                     [31,32,33,34]])\n",
    "array[0][3] = 111\n",
    "print(array)"
   ]
  },
  {
   "cell_type": "code",
   "execution_count": null,
   "metadata": {
    "id": "r5P17KB3vNGb"
   },
   "outputs": [],
   "source": []
  },
  {
   "cell_type": "code",
   "execution_count": null,
   "metadata": {
    "id": "FZ-o6qEKvbfQ"
   },
   "outputs": [],
   "source": []
  },
  {
   "cell_type": "markdown",
   "metadata": {
    "id": "2StPjFp3ZWh7"
   },
   "source": [
    "### 1-3. 배열의 연산 "
   ]
  },
  {
   "cell_type": "code",
   "execution_count": null,
   "metadata": {
    "colab": {
     "base_uri": "https://localhost:8080/"
    },
    "executionInfo": {
     "elapsed": 6,
     "status": "ok",
     "timestamp": 1649661345874,
     "user": {
      "displayName": "teddy t",
      "userId": "08366841288043499655"
     },
     "user_tz": -540
    },
    "id": "PJmowaaTebFi",
    "outputId": "716c7b74-bb5e-4d33-d4ea-69485e8014bf"
   },
   "outputs": [
    {
     "name": "stdout",
     "output_type": "stream",
     "text": [
      "[[1 2]\n",
      " [3 4]]\n",
      "\n",
      "[[5. 6.]\n",
      " [7. 8.]]\n"
     ]
    }
   ],
   "source": [
    "#%%\n",
    "\n",
    "x = np.array([[1, 2],[3,4]], dtype=int)\n",
    "y = np.array([[5, 6],[7,8]], dtype=np.float64)\n",
    "\n",
    "print(x)\n",
    "print()\n",
    "print(y)\n"
   ]
  },
  {
   "cell_type": "code",
   "execution_count": null,
   "metadata": {
    "colab": {
     "base_uri": "https://localhost:8080/"
    },
    "executionInfo": {
     "elapsed": 348,
     "status": "ok",
     "timestamp": 1649661358414,
     "user": {
      "displayName": "teddy t",
      "userId": "08366841288043499655"
     },
     "user_tz": -540
    },
    "id": "vW1BhTZcecx9",
    "outputId": "7a36cb42-515d-4917-c1cf-0b151c4bd525"
   },
   "outputs": [
    {
     "name": "stdout",
     "output_type": "stream",
     "text": [
      "[[ 6.  8.]\n",
      " [10. 12.]]\n",
      "\n",
      "[[ 6.  8.]\n",
      " [10. 12.]]\n"
     ]
    }
   ],
   "source": [
    "# add\n",
    "print(x + y)         \n",
    "print()\n",
    "print(np.add(x, y))  "
   ]
  },
  {
   "cell_type": "code",
   "execution_count": null,
   "metadata": {
    "colab": {
     "base_uri": "https://localhost:8080/"
    },
    "executionInfo": {
     "elapsed": 3,
     "status": "ok",
     "timestamp": 1649661367642,
     "user": {
      "displayName": "teddy t",
      "userId": "08366841288043499655"
     },
     "user_tz": -540
    },
    "id": "Ho3jC0xferLY",
    "outputId": "21f8c003-84a3-47e9-9cca-069c0169d4eb"
   },
   "outputs": [
    {
     "name": "stdout",
     "output_type": "stream",
     "text": [
      "[[-4. -4.]\n",
      " [-4. -4.]]\n",
      "\n",
      "[[-4. -4.]\n",
      " [-4. -4.]]\n"
     ]
    }
   ],
   "source": [
    "# subtract\n",
    "print(x - y)\n",
    "print()\n",
    "print(np.subtract(x, y))"
   ]
  },
  {
   "cell_type": "code",
   "execution_count": null,
   "metadata": {
    "colab": {
     "base_uri": "https://localhost:8080/"
    },
    "executionInfo": {
     "elapsed": 2,
     "status": "ok",
     "timestamp": 1649661426188,
     "user": {
      "displayName": "teddy t",
      "userId": "08366841288043499655"
     },
     "user_tz": -540
    },
    "id": "JxhgBDIKetgR",
    "outputId": "1ab81b79-7ac7-44cd-c5f1-b298d5d494b1"
   },
   "outputs": [
    {
     "name": "stdout",
     "output_type": "stream",
     "text": [
      "[[ 5. 12.]\n",
      " [21. 32.]]\n",
      "\n",
      "[[ 5. 12.]\n",
      " [21. 32.]]\n",
      "\n",
      "[[19. 22.]\n",
      " [43. 50.]]\n",
      "\n",
      "[[19. 22.]\n",
      " [43. 50.]]\n"
     ]
    }
   ],
   "source": [
    "# multiply\n",
    "print(x * y) # element wise multiplication\n",
    "print()\n",
    "print(np.multiply(x, y)) # element wise multiplication\n",
    "print()\n",
    "print(x.dot(y)) # matrix multiplication\n",
    "print()\n",
    "print(np.dot(x,y)) # matrix multiplication"
   ]
  },
  {
   "cell_type": "code",
   "execution_count": null,
   "metadata": {
    "colab": {
     "base_uri": "https://localhost:8080/"
    },
    "executionInfo": {
     "elapsed": 356,
     "status": "ok",
     "timestamp": 1649661582259,
     "user": {
      "displayName": "teddy t",
      "userId": "08366841288043499655"
     },
     "user_tz": -540
    },
    "id": "A-fgr8MReMa4",
    "outputId": "f9a72559-2ced-4da2-8840-f3274a5c9c80"
   },
   "outputs": [
    {
     "name": "stdout",
     "output_type": "stream",
     "text": [
      "[9 9]\n",
      "[10 10]\n",
      "180\n",
      "180\n"
     ]
    }
   ],
   "source": [
    "# 두 벡터의 내적\n",
    "a1d = np.array([9 , 9 ])\n",
    "b1d = np.array([10, 10])\n",
    "\n",
    "print(a1d)\n",
    "print(b1d)\n",
    "\n",
    "print(a1d.dot(b1d))\n",
    "print(np.dot(a1d, b1d))"
   ]
  },
  {
   "cell_type": "code",
   "execution_count": null,
   "metadata": {
    "colab": {
     "base_uri": "https://localhost:8080/"
    },
    "executionInfo": {
     "elapsed": 370,
     "status": "ok",
     "timestamp": 1649661400360,
     "user": {
      "displayName": "teddy t",
      "userId": "08366841288043499655"
     },
     "user_tz": -540
    },
    "id": "qF_obmhre0ny",
    "outputId": "7fb79b33-af5b-4893-8a42-7593a3764a58"
   },
   "outputs": [
    {
     "name": "stdout",
     "output_type": "stream",
     "text": [
      "[[0.2        0.33333333]\n",
      " [0.42857143 0.5       ]]\n",
      "\n",
      "[[0.2        0.33333333]\n",
      " [0.42857143 0.5       ]]\n"
     ]
    }
   ],
   "source": [
    "# divide\n",
    "print(x / y)\n",
    "print()\n",
    "print(np.divide(x, y))"
   ]
  },
  {
   "cell_type": "code",
   "execution_count": null,
   "metadata": {
    "id": "ZLQaX5C_vw7B"
   },
   "outputs": [],
   "source": []
  },
  {
   "cell_type": "markdown",
   "metadata": {
    "id": "r6ACYEHzZXUj"
   },
   "source": [
    "### 1-4. 배열의 마스킹 연산"
   ]
  },
  {
   "cell_type": "code",
   "execution_count": 2,
   "metadata": {
    "colab": {
     "base_uri": "https://localhost:8080/"
    },
    "executionInfo": {
     "elapsed": 367,
     "status": "ok",
     "timestamp": 1649661764988,
     "user": {
      "displayName": "teddy t",
      "userId": "08366841288043499655"
     },
     "user_tz": -540
    },
    "id": "LltQ8Y0WZT73",
    "outputId": "7805457e-9edf-44a7-9d88-5ab538ab235d"
   },
   "outputs": [
    {
     "name": "stdout",
     "output_type": "stream",
     "text": [
      "[[ True False False]\n",
      " [False  True False]\n",
      " [False False  True]]\n",
      "\n",
      "[[0 1 2]\n",
      " [3 4 5]\n",
      " [6 7 8]]\n"
     ]
    }
   ],
   "source": [
    "# indexing using boolean\n",
    "mask = np.eye(3, dtype=bool)\n",
    "print(mask)\n",
    "print()\n",
    "a = np.arange(9).reshape(3,3)\n",
    "print(a)\n"
   ]
  },
  {
   "cell_type": "code",
   "execution_count": 3,
   "metadata": {
    "colab": {
     "base_uri": "https://localhost:8080/"
    },
    "executionInfo": {
     "elapsed": 2,
     "status": "ok",
     "timestamp": 1649661771906,
     "user": {
      "displayName": "teddy t",
      "userId": "08366841288043499655"
     },
     "user_tz": -540
    },
    "id": "NB6fvTDfZT93",
    "outputId": "984c59db-9dc6-4b85-d3d6-931b5fc75af2"
   },
   "outputs": [
    {
     "name": "stdout",
     "output_type": "stream",
     "text": [
      "[0 4 8]\n",
      "[[0 1 2]\n",
      " [3 4 5]\n",
      " [6 7 8]]\n"
     ]
    }
   ],
   "source": [
    "print(a[mask]) # True 인 지점만 추출합니다.\n",
    "print(a)"
   ]
  },
  {
   "cell_type": "code",
   "execution_count": null,
   "metadata": {
    "colab": {
     "base_uri": "https://localhost:8080/"
    },
    "executionInfo": {
     "elapsed": 8,
     "status": "ok",
     "timestamp": 1649661824208,
     "user": {
      "displayName": "teddy t",
      "userId": "08366841288043499655"
     },
     "user_tz": -540
    },
    "id": "3Gj2xtLMYpqS",
    "outputId": "4c4d9f4e-4b04-4b11-9058-6d9cb9c87f1d"
   },
   "outputs": [
    {
     "name": "stdout",
     "output_type": "stream",
     "text": [
      "[[ 0  1  2  3]\n",
      " [ 4  5  6  7]\n",
      " [ 8  9 10 11]\n",
      " [12 13 14 15]\n",
      " [16 17 18 19]\n",
      " [20 21 22 23]\n",
      " [24 25 26 27]\n",
      " [28 29 30 31]\n",
      " [32 33 34 35]\n",
      " [36 37 38 39]]\n"
     ]
    }
   ],
   "source": [
    "# changing values using condition\n",
    "array = np.arange(40).reshape(10,4)\n",
    "print(array)"
   ]
  },
  {
   "cell_type": "code",
   "execution_count": null,
   "metadata": {
    "colab": {
     "base_uri": "https://localhost:8080/"
    },
    "executionInfo": {
     "elapsed": 484,
     "status": "ok",
     "timestamp": 1649661825899,
     "user": {
      "displayName": "teddy t",
      "userId": "08366841288043499655"
     },
     "user_tz": -540
    },
    "id": "RGeiFMSwgcHu",
    "outputId": "200024e3-646c-48dd-aea4-c6e6aec53957"
   },
   "outputs": [
    {
     "name": "stdout",
     "output_type": "stream",
     "text": [
      "[[ 0  0  0  0]\n",
      " [ 0  0  0  0]\n",
      " [ 0  0  0  0]\n",
      " [ 0  0  0  0]\n",
      " [16 17 18 19]\n",
      " [20 21 22 23]\n",
      " [24 25 26 27]\n",
      " [28 29 30 31]\n",
      " [32 33 34 35]\n",
      " [36 37 38 39]]\n"
     ]
    }
   ],
   "source": [
    "print(np.where(array>15, array, 0))"
   ]
  },
  {
   "cell_type": "code",
   "execution_count": null,
   "metadata": {
    "colab": {
     "base_uri": "https://localhost:8080/"
    },
    "executionInfo": {
     "elapsed": 315,
     "status": "ok",
     "timestamp": 1649661833463,
     "user": {
      "displayName": "teddy t",
      "userId": "08366841288043499655"
     },
     "user_tz": -540
    },
    "id": "eWzNvUpUgYYn",
    "outputId": "d8ee2701-8bdc-469a-d9e6-6af636830869"
   },
   "outputs": [
    {
     "name": "stdout",
     "output_type": "stream",
     "text": [
      "[[False False False False]\n",
      " [False False False False]\n",
      " [False False False False]\n",
      " [False False False False]\n",
      " [ True  True  True  True]\n",
      " [ True  True  True  True]\n",
      " [ True  True  True  True]\n",
      " [ True  True  True  True]\n",
      " [ True  True  True  True]\n",
      " [ True  True  True  True]]\n",
      "[[  0   1   2   3]\n",
      " [  4   5   6   7]\n",
      " [  8   9  10  11]\n",
      " [ 12  13  14  15]\n",
      " [116 117 118 119]\n",
      " [120 121 122 123]\n",
      " [124 125 126 127]\n",
      " [128 129 130 131]\n",
      " [132 133 134 135]\n",
      " [136 137 138 139]]\n"
     ]
    }
   ],
   "source": [
    "# condition에 해당하는 값을 직접 변경 (boolean 이용)\n",
    "array = np.arange(40).reshape(10,4)\n",
    "print(array>15)\n",
    "array[(array>15)] += 100\n",
    "print(array)"
   ]
  },
  {
   "cell_type": "code",
   "execution_count": null,
   "metadata": {
    "id": "kWigDUEcwBWU"
   },
   "outputs": [],
   "source": []
  },
  {
   "cell_type": "markdown",
   "metadata": {
    "id": "4vdOe0i0wB-M"
   },
   "source": [
    "## Quiz 1-4\n",
    "0. Create a 3x3 matrix with values ranging from 0 to 8\n",
    "\n",
    "1. Create a 5x5 matrix with row values ranging from 0 to 4\n",
    "\n",
    "2. Fill zero values if the value is odd number in a given array (array = np.arange(40).reshape(10,4))\n",
    "\n",
    "3. Make 11 x 11 array filled with ones, then set the centor rectangular to be zero. (width = 5, height = 5) \n"
   ]
  },
  {
   "cell_type": "code",
   "execution_count": 5,
   "metadata": {
    "id": "XSZWUimdzAVq"
   },
   "outputs": [
    {
     "name": "stdout",
     "output_type": "stream",
     "text": [
      "[[0 1 2]\n",
      " [3 4 5]\n",
      " [6 7 8]]\n"
     ]
    }
   ],
   "source": [
    "# 0.\n",
    "array = np.arange(9).reshape(3, 3)\n",
    "print(array)"
   ]
  },
  {
   "cell_type": "code",
   "execution_count": 16,
   "metadata": {
    "id": "sx1onEJezACi"
   },
   "outputs": [
    {
     "name": "stdout",
     "output_type": "stream",
     "text": [
      "[[0 1 2 3 4]\n",
      " [0 1 2 3 4]\n",
      " [0 1 2 3 4]\n",
      " [0 1 2 3 4]\n",
      " [0 1 2 3 4]]\n"
     ]
    }
   ],
   "source": [
    "# 1.\n",
    "array = (np.arange(25).reshape(5, 5)) % 5\n",
    "print(array)"
   ]
  },
  {
   "cell_type": "code",
   "execution_count": 20,
   "metadata": {
    "id": "65V1EweRYpA7"
   },
   "outputs": [
    {
     "name": "stdout",
     "output_type": "stream",
     "text": [
      "[[ 0  0  2  0]\n",
      " [ 4  0  6  0]\n",
      " [ 8  0 10  0]\n",
      " [12  0 14  0]\n",
      " [16  0 18  0]\n",
      " [20  0 22  0]\n",
      " [24  0 26  0]\n",
      " [28  0 30  0]\n",
      " [32  0 34  0]\n",
      " [36  0 38  0]]\n"
     ]
    }
   ],
   "source": [
    "# 2. \n",
    "array = np.arange(40).reshape(10,4)\n",
    "array = np.where(array % 2 == 0, array, 0)\n",
    "print(array)"
   ]
  },
  {
   "cell_type": "code",
   "execution_count": 22,
   "metadata": {
    "colab": {
     "base_uri": "https://localhost:8080/",
     "height": 283
    },
    "executionInfo": {
     "elapsed": 343,
     "status": "ok",
     "timestamp": 1649666583645,
     "user": {
      "displayName": "teddy t",
      "userId": "08366841288043499655"
     },
     "user_tz": -540
    },
    "id": "tUHyrNZBxHOC",
    "outputId": "c3285503-a40d-4e5d-f818-bf912559e592"
   },
   "outputs": [
    {
     "data": {
      "text/plain": [
       "<matplotlib.image.AxesImage at 0x2a07ba347f0>"
      ]
     },
     "execution_count": 22,
     "metadata": {},
     "output_type": "execute_result"
    },
    {
     "data": {
      "image/png": "[encoded data removed]",
      "text/plain": [
       "<Figure size 432x288 with 1 Axes>"
      ]
     },
     "metadata": {
      "needs_background": "light"
     },
     "output_type": "display_data"
    }
   ],
   "source": [
    "# 3.\n",
    "import matplotlib.pyplot as plt\n",
    "\n",
    "array = np.ones((11, 11))\n",
    "array[3:8, 3:8] = 0\n",
    "\n",
    "plt.imshow(array)"
   ]
  },
  {
   "cell_type": "markdown",
   "metadata": {
    "id": "2cxUh82OZYOU"
   },
   "source": [
    "### 1-5. Broadcasting"
   ]
  },
  {
   "cell_type": "code",
   "execution_count": null,
   "metadata": {
    "colab": {
     "base_uri": "https://localhost:8080/"
    },
    "executionInfo": {
     "elapsed": 350,
     "status": "ok",
     "timestamp": 1649661137298,
     "user": {
      "displayName": "teddy t",
      "userId": "08366841288043499655"
     },
     "user_tz": -540
    },
    "id": "pI7NqeNjZYWi",
    "outputId": "caae5a4d-5f60-4572-ae4b-1c0d6ab9327b"
   },
   "outputs": [
    {
     "data": {
      "text/plain": [
       "array([[[1., 1., 1., 1., 1.],\n",
       "        [1., 1., 1., 1., 1.],\n",
       "        [1., 1., 1., 1., 1.],\n",
       "        [1., 1., 1., 1., 1.]],\n",
       "\n",
       "       [[1., 1., 1., 1., 1.],\n",
       "        [1., 1., 1., 1., 1.],\n",
       "        [1., 1., 1., 1., 1.],\n",
       "        [1., 1., 1., 1., 1.]],\n",
       "\n",
       "       [[1., 1., 1., 1., 1.],\n",
       "        [1., 1., 1., 1., 1.],\n",
       "        [1., 1., 1., 1., 1.],\n",
       "        [1., 1., 1., 1., 1.]]])"
      ]
     },
     "execution_count": 37,
     "metadata": {},
     "output_type": "execute_result"
    }
   ],
   "source": [
    "a = np.ones((3,4,5))\n",
    "a\n"
   ]
  },
  {
   "cell_type": "code",
   "execution_count": null,
   "metadata": {
    "colab": {
     "base_uri": "https://localhost:8080/"
    },
    "executionInfo": {
     "elapsed": 343,
     "status": "ok",
     "timestamp": 1649661142338,
     "user": {
      "displayName": "teddy t",
      "userId": "08366841288043499655"
     },
     "user_tz": -540
    },
    "id": "igELgu-CZYY7",
    "outputId": "b4d48baa-44bd-4351-d983-283912a2a119"
   },
   "outputs": [
    {
     "data": {
      "text/plain": [
       "array([[[1., 1., 1., 1., 1.]],\n",
       "\n",
       "       [[1., 1., 1., 1., 1.]],\n",
       "\n",
       "       [[1., 1., 1., 1., 1.]]])"
      ]
     },
     "execution_count": 38,
     "metadata": {},
     "output_type": "execute_result"
    }
   ],
   "source": [
    "b = np.ones((3,1,5))\n",
    "b"
   ]
  },
  {
   "cell_type": "code",
   "execution_count": null,
   "metadata": {
    "colab": {
     "base_uri": "https://localhost:8080/"
    },
    "executionInfo": {
     "elapsed": 5,
     "status": "ok",
     "timestamp": 1649661151831,
     "user": {
      "displayName": "teddy t",
      "userId": "08366841288043499655"
     },
     "user_tz": -540
    },
    "id": "CpAOJ3ycZYbC",
    "outputId": "3ee61a12-5d16-4d04-b7d5-a5ac7e7ba0eb"
   },
   "outputs": [
    {
     "data": {
      "text/plain": [
       "array([[[2., 2., 2., 2., 2.],\n",
       "        [2., 2., 2., 2., 2.],\n",
       "        [2., 2., 2., 2., 2.],\n",
       "        [2., 2., 2., 2., 2.]],\n",
       "\n",
       "       [[2., 2., 2., 2., 2.],\n",
       "        [2., 2., 2., 2., 2.],\n",
       "        [2., 2., 2., 2., 2.],\n",
       "        [2., 2., 2., 2., 2.]],\n",
       "\n",
       "       [[2., 2., 2., 2., 2.],\n",
       "        [2., 2., 2., 2., 2.],\n",
       "        [2., 2., 2., 2., 2.],\n",
       "        [2., 2., 2., 2., 2.]]])"
      ]
     },
     "execution_count": 39,
     "metadata": {},
     "output_type": "execute_result"
    }
   ],
   "source": [
    "a+b # \"1\" 인 곳이 broadcast 되어 (3,4,5) 의 모든 곳에 더해지게 됨"
   ]
  },
  {
   "cell_type": "code",
   "execution_count": null,
   "metadata": {
    "colab": {
     "base_uri": "https://localhost:8080/"
    },
    "executionInfo": {
     "elapsed": 355,
     "status": "ok",
     "timestamp": 1649662237616,
     "user": {
      "displayName": "teddy t",
      "userId": "08366841288043499655"
     },
     "user_tz": -540
    },
    "id": "2MNYCgXZeCPf",
    "outputId": "fe1c8104-03c1-4565-e4e3-cacebbc2f48b"
   },
   "outputs": [
    {
     "data": {
      "text/plain": [
       "array([[[1., 2., 3., 4., 5.],\n",
       "        [1., 2., 3., 4., 5.],\n",
       "        [1., 2., 3., 4., 5.],\n",
       "        [1., 2., 3., 4., 5.]],\n",
       "\n",
       "       [[1., 2., 3., 4., 5.],\n",
       "        [1., 2., 3., 4., 5.],\n",
       "        [1., 2., 3., 4., 5.],\n",
       "        [1., 2., 3., 4., 5.]],\n",
       "\n",
       "       [[1., 2., 3., 4., 5.],\n",
       "        [1., 2., 3., 4., 5.],\n",
       "        [1., 2., 3., 4., 5.],\n",
       "        [1., 2., 3., 4., 5.]]])"
      ]
     },
     "execution_count": 64,
     "metadata": {},
     "output_type": "execute_result"
    }
   ],
   "source": [
    "a = np.ones((3,4,5))\n",
    "b = np.arange(5)\n",
    "a + b"
   ]
  },
  {
   "cell_type": "code",
   "execution_count": null,
   "metadata": {
    "id": "59PHSMkqd771"
   },
   "outputs": [],
   "source": []
  },
  {
   "cell_type": "markdown",
   "metadata": {
    "id": "PpIJ1f3fZlko"
   },
   "source": [
    "### 1-6. 집계함수"
   ]
  },
  {
   "cell_type": "code",
   "execution_count": null,
   "metadata": {
    "colab": {
     "base_uri": "https://localhost:8080/"
    },
    "executionInfo": {
     "elapsed": 328,
     "status": "ok",
     "timestamp": 1649661054384,
     "user": {
      "displayName": "teddy t",
      "userId": "08366841288043499655"
     },
     "user_tz": -540
    },
    "id": "CDIaO_noZYfm",
    "outputId": "052bf6aa-692c-4b0b-bb53-c897644ab00b"
   },
   "outputs": [
    {
     "name": "stdout",
     "output_type": "stream",
     "text": [
      "Sum: 55\n",
      "Min: 1\n",
      "Max: 10\n"
     ]
    }
   ],
   "source": [
    "# useful array methods\n",
    "a = np.arange(1, 11)\n",
    "print('Sum:', a.sum())\n",
    "print('Min:', a.min())\n",
    "print('Max:', a.max())"
   ]
  },
  {
   "cell_type": "code",
   "execution_count": null,
   "metadata": {
    "colab": {
     "base_uri": "https://localhost:8080/"
    },
    "executionInfo": {
     "elapsed": 3,
     "status": "ok",
     "timestamp": 1649662107488,
     "user": {
      "displayName": "teddy t",
      "userId": "08366841288043499655"
     },
     "user_tz": -540
    },
    "id": "5VQhYFHmhZvn",
    "outputId": "6f2b8f70-8364-4daf-fe74-88883c02d587"
   },
   "outputs": [
    {
     "name": "stdout",
     "output_type": "stream",
     "text": [
      "[[ 14.73896992   8.07745606   8.49032244   9.57524529 -11.28493414]\n",
      " [  8.3028271   17.16710577   5.17690179   5.3917895   -9.03100254]]\n",
      "5.66046811907699\n",
      "[5.91941191 5.40152432]\n",
      "[ 11.52089851  12.62228091   6.83361212   7.4835174  -10.15796834]\n",
      "56.604681190769895\n",
      "[8.49032244 5.3917895 ]\n"
     ]
    }
   ],
   "source": [
    "# (2,4)의 임의의 실수로 구성된 행렬\n",
    "arr = 10 * np.random.randn(2,5)\n",
    "print(arr)\n",
    "# 모든 수의 평균\n",
    "print(arr.mean())\n",
    "# 행으로 평균 구하기\n",
    "print(arr.mean(axis = 1))\n",
    "# 열로 평균 구하기\n",
    "print(arr.mean(axis = 0))\n",
    "# 모든 수의 합\n",
    "print(arr.sum())\n",
    "# 행으로 중앙값 구하기\n",
    "print(np.median(arr, axis = 1))"
   ]
  },
  {
   "cell_type": "code",
   "execution_count": null,
   "metadata": {
    "colab": {
     "base_uri": "https://localhost:8080/"
    },
    "executionInfo": {
     "elapsed": 336,
     "status": "ok",
     "timestamp": 1649661061156,
     "user": {
      "displayName": "teddy t",
      "userId": "08366841288043499655"
     },
     "user_tz": -540
    },
    "id": "F9hmIey-dgkw",
    "outputId": "6ef7d7bc-3cbd-4857-9e08-b5e4e14e8781"
   },
   "outputs": [
    {
     "name": "stdout",
     "output_type": "stream",
     "text": [
      "[[ 1  2  3  4  5]\n",
      " [ 6  7  8  9 10]\n",
      " [11 12 13 14 15]]\n",
      "[18 21 24 27 30]\n",
      "[ 1  6 11]\n"
     ]
    }
   ],
   "source": [
    "# applying methods to a single axis\n",
    "a = np.arange(15).reshape(3, 5) + 1\n",
    "\n",
    "print(a)\n",
    "print(a.sum(axis=0)) # sum each column\n",
    "print(a.min(axis=1)) # min of each row"
   ]
  },
  {
   "cell_type": "code",
   "execution_count": null,
   "metadata": {
    "colab": {
     "base_uri": "https://localhost:8080/"
    },
    "executionInfo": {
     "elapsed": 400,
     "status": "ok",
     "timestamp": 1649661069458,
     "user": {
      "displayName": "teddy t",
      "userId": "08366841288043499655"
     },
     "user_tz": -540
    },
    "id": "TePzYACPdiOW",
    "outputId": "70e5e2fe-375c-4172-ff3c-a1c75f7a4bed"
   },
   "outputs": [
    {
     "name": "stdout",
     "output_type": "stream",
     "text": [
      "[ 0.00000000e+00  6.28381328e-04  1.25676241e-03 ... -1.25676241e-03\n",
      " -6.28381328e-04 -2.44929360e-16]\n",
      "\n",
      "[0.         0.02506754 0.03545085 ... 2.50637757 2.50650293 2.50662827]\n",
      "\n",
      "[  1.           1.00062858   1.00125755 ... 534.81909228 535.15526825\n",
      " 535.49165552]\n",
      "\n"
     ]
    }
   ],
   "source": [
    "# universal functions (sin, cos, exp, sqrt, ... etc)\n",
    "a = np.linspace(0, 2*np.pi, 10000)\n",
    "\n",
    "sin_a = np.sin(a)\n",
    "sqrt_a = np.sqrt(a)\n",
    "exp_a = np.exp(a)\n",
    "\n",
    "print(sin_a, end='\\n\\n')\n",
    "print(sqrt_a, end='\\n\\n')\n",
    "print(exp_a, end='\\n\\n')"
   ]
  },
  {
   "cell_type": "code",
   "execution_count": null,
   "metadata": {
    "id": "ZAL1o8cmwGNZ"
   },
   "outputs": [],
   "source": []
  },
  {
   "cell_type": "markdown",
   "metadata": {
    "id": "HAB3RXVZwH3E"
   },
   "source": [
    "## Quiz 1-6.\n",
    "\n",
    "1. Create random vector of size 10 and replace the maximum value by 0\n",
    "2. Find the max, mean, std, value in the 100 x 100 random matrix"
   ]
  },
  {
   "cell_type": "code",
   "execution_count": null,
   "metadata": {
    "id": "bM2FV5HewKhZ"
   },
   "outputs": [],
   "source": [
    "# 1"
   ]
  },
  {
   "cell_type": "code",
   "execution_count": null,
   "metadata": {
    "id": "IOhsW9jDznbL"
   },
   "outputs": [],
   "source": [
    "# 2"
   ]
  },
  {
   "cell_type": "code",
   "execution_count": null,
   "metadata": {
    "id": "-T8ijmKmzYlZ"
   },
   "outputs": [],
   "source": []
  }
 ],
 "metadata": {
  "colab": {
   "collapsed_sections": [],
   "name": "Week13_1_Numpy.ipynb",
   "provenance": [
    {
     "file_id": "1czQDcVAoBO7okquAnE1-jfwLVDbf8tbE",
     "timestamp": 1649726788862
    }
   ]
  },
  "kernelspec": {
   "display_name": "Python 3 (ipykernel)",
   "language": "python",
   "name": "python3"
  },
  "language_info": {
   "codemirror_mode": {
    "name": "ipython",
    "version": 3
   },
   "file_extension": ".py",
   "mimetype": "text/x-python",
   "name": "python",
   "nbconvert_exporter": "python",
   "pygments_lexer": "ipython3",
   "version": "3.9.7"
  }
 },
 "nbformat": 4,
 "nbformat_minor": 1
}
